{
  "nbformat": 4,
  "nbformat_minor": 0,
  "metadata": {
    "colab": {
      "provenance": [],
      "authorship_tag": "ABX9TyP3P7/CCfAFFkabYFJ5X36x",
      "include_colab_link": true
    },
    "kernelspec": {
      "name": "python3",
      "display_name": "Python 3"
    },
    "language_info": {
      "name": "python"
    }
  },
  "cells": [
    {
      "cell_type": "markdown",
      "metadata": {
        "id": "view-in-github",
        "colab_type": "text"
      },
      "source": [
        "<a href=\"https://colab.research.google.com/github/gopukrisnaa/Cars-price-and-class-prediction/blob/main/CarPricePrediction.ipynb\" target=\"_parent\"><img src=\"https://colab.research.google.com/assets/colab-badge.svg\" alt=\"Open In Colab\"/></a>"
      ]
    },
    {
      "cell_type": "code",
      "execution_count": null,
      "metadata": {
        "id": "dI-R6KZyx2FT"
      },
      "outputs": [],
      "source": [
        "import numpy as np\n",
        "import pandas as pd\n",
        "import matplotlib.pyplot as plt\n",
        "import seaborn as sns\n",
        "from sklearn import linear_model\n",
        "from sklearn.linear_model import LinearRegression"
      ]
    },
    {
      "cell_type": "code",
      "source": [
        "cars=pd.read_csv(\"Cars_price.csv\")"
      ],
      "metadata": {
        "id": "yy83nbdUx3j3"
      },
      "execution_count": null,
      "outputs": []
    },
    {
      "cell_type": "code",
      "source": [
        "cars"
      ],
      "metadata": {
        "colab": {
          "base_uri": "https://localhost:8080/",
          "height": 557
        },
        "id": "NuPiyhRuye_m",
        "outputId": "702c6d3a-76f8-406d-97dd-60bf64ffddff"
      },
      "execution_count": null,
      "outputs": [
        {
          "output_type": "execute_result",
          "data": {
            "text/plain": [
              "     car_ID  symboling                   CarName fueltype aspiration  \\\n",
              "0         1          3        alfa-romero giulia      gas        std   \n",
              "1         2          3       alfa-romero stelvio      gas        std   \n",
              "2         3          1  alfa-romero Quadrifoglio      gas        std   \n",
              "3         4          2               audi 100 ls      gas        std   \n",
              "4         5          2                audi 100ls      gas        std   \n",
              "..      ...        ...                       ...      ...        ...   \n",
              "200     201         -1           volvo 145e (sw)      gas        std   \n",
              "201     202         -1               volvo 144ea      gas      turbo   \n",
              "202     203         -1               volvo 244dl      gas        std   \n",
              "203     204         -1                 volvo 246   diesel      turbo   \n",
              "204     205         -1               volvo 264gl      gas      turbo   \n",
              "\n",
              "    doornumber      carbody drivewheel enginelocation  wheelbase  ...  \\\n",
              "0          two  convertible        rwd          front       88.6  ...   \n",
              "1          two  convertible        rwd          front       88.6  ...   \n",
              "2          two    hatchback        rwd          front       94.5  ...   \n",
              "3         four        sedan        fwd          front       99.8  ...   \n",
              "4         four        sedan        4wd          front       99.4  ...   \n",
              "..         ...          ...        ...            ...        ...  ...   \n",
              "200       four        sedan        rwd          front      109.1  ...   \n",
              "201       four        sedan        rwd          front      109.1  ...   \n",
              "202       four        sedan        rwd          front      109.1  ...   \n",
              "203       four        sedan        rwd          front      109.1  ...   \n",
              "204       four        sedan        rwd          front      109.1  ...   \n",
              "\n",
              "     enginesize  fuelsystem  boreratio  stroke compressionratio horsepower  \\\n",
              "0           130        mpfi       3.47    2.68              9.0        111   \n",
              "1           130        mpfi       3.47    2.68              9.0        111   \n",
              "2           152        mpfi       2.68    3.47              9.0        154   \n",
              "3           109        mpfi       3.19    3.40             10.0        102   \n",
              "4           136        mpfi       3.19    3.40              8.0        115   \n",
              "..          ...         ...        ...     ...              ...        ...   \n",
              "200         141        mpfi       3.78    3.15              9.5        114   \n",
              "201         141        mpfi       3.78    3.15              8.7        160   \n",
              "202         173        mpfi       3.58    2.87              8.8        134   \n",
              "203         145         idi       3.01    3.40             23.0        106   \n",
              "204         141        mpfi       3.78    3.15              9.5        114   \n",
              "\n",
              "     peakrpm citympg  highwaympg    price  \n",
              "0       5000      21          27  13495.0  \n",
              "1       5000      21          27  16500.0  \n",
              "2       5000      19          26  16500.0  \n",
              "3       5500      24          30  13950.0  \n",
              "4       5500      18          22  17450.0  \n",
              "..       ...     ...         ...      ...  \n",
              "200     5400      23          28  16845.0  \n",
              "201     5300      19          25  19045.0  \n",
              "202     5500      18          23  21485.0  \n",
              "203     4800      26          27  22470.0  \n",
              "204     5400      19          25  22625.0  \n",
              "\n",
              "[205 rows x 26 columns]"
            ],
            "text/html": [
              "\n",
              "  <div id=\"df-2032f519-89e6-4172-af60-99df1a793a47\">\n",
              "    <div class=\"colab-df-container\">\n",
              "      <div>\n",
              "<style scoped>\n",
              "    .dataframe tbody tr th:only-of-type {\n",
              "        vertical-align: middle;\n",
              "    }\n",
              "\n",
              "    .dataframe tbody tr th {\n",
              "        vertical-align: top;\n",
              "    }\n",
              "\n",
              "    .dataframe thead th {\n",
              "        text-align: right;\n",
              "    }\n",
              "</style>\n",
              "<table border=\"1\" class=\"dataframe\">\n",
              "  <thead>\n",
              "    <tr style=\"text-align: right;\">\n",
              "      <th></th>\n",
              "      <th>car_ID</th>\n",
              "      <th>symboling</th>\n",
              "      <th>CarName</th>\n",
              "      <th>fueltype</th>\n",
              "      <th>aspiration</th>\n",
              "      <th>doornumber</th>\n",
              "      <th>carbody</th>\n",
              "      <th>drivewheel</th>\n",
              "      <th>enginelocation</th>\n",
              "      <th>wheelbase</th>\n",
              "      <th>...</th>\n",
              "      <th>enginesize</th>\n",
              "      <th>fuelsystem</th>\n",
              "      <th>boreratio</th>\n",
              "      <th>stroke</th>\n",
              "      <th>compressionratio</th>\n",
              "      <th>horsepower</th>\n",
              "      <th>peakrpm</th>\n",
              "      <th>citympg</th>\n",
              "      <th>highwaympg</th>\n",
              "      <th>price</th>\n",
              "    </tr>\n",
              "  </thead>\n",
              "  <tbody>\n",
              "    <tr>\n",
              "      <th>0</th>\n",
              "      <td>1</td>\n",
              "      <td>3</td>\n",
              "      <td>alfa-romero giulia</td>\n",
              "      <td>gas</td>\n",
              "      <td>std</td>\n",
              "      <td>two</td>\n",
              "      <td>convertible</td>\n",
              "      <td>rwd</td>\n",
              "      <td>front</td>\n",
              "      <td>88.6</td>\n",
              "      <td>...</td>\n",
              "      <td>130</td>\n",
              "      <td>mpfi</td>\n",
              "      <td>3.47</td>\n",
              "      <td>2.68</td>\n",
              "      <td>9.0</td>\n",
              "      <td>111</td>\n",
              "      <td>5000</td>\n",
              "      <td>21</td>\n",
              "      <td>27</td>\n",
              "      <td>13495.0</td>\n",
              "    </tr>\n",
              "    <tr>\n",
              "      <th>1</th>\n",
              "      <td>2</td>\n",
              "      <td>3</td>\n",
              "      <td>alfa-romero stelvio</td>\n",
              "      <td>gas</td>\n",
              "      <td>std</td>\n",
              "      <td>two</td>\n",
              "      <td>convertible</td>\n",
              "      <td>rwd</td>\n",
              "      <td>front</td>\n",
              "      <td>88.6</td>\n",
              "      <td>...</td>\n",
              "      <td>130</td>\n",
              "      <td>mpfi</td>\n",
              "      <td>3.47</td>\n",
              "      <td>2.68</td>\n",
              "      <td>9.0</td>\n",
              "      <td>111</td>\n",
              "      <td>5000</td>\n",
              "      <td>21</td>\n",
              "      <td>27</td>\n",
              "      <td>16500.0</td>\n",
              "    </tr>\n",
              "    <tr>\n",
              "      <th>2</th>\n",
              "      <td>3</td>\n",
              "      <td>1</td>\n",
              "      <td>alfa-romero Quadrifoglio</td>\n",
              "      <td>gas</td>\n",
              "      <td>std</td>\n",
              "      <td>two</td>\n",
              "      <td>hatchback</td>\n",
              "      <td>rwd</td>\n",
              "      <td>front</td>\n",
              "      <td>94.5</td>\n",
              "      <td>...</td>\n",
              "      <td>152</td>\n",
              "      <td>mpfi</td>\n",
              "      <td>2.68</td>\n",
              "      <td>3.47</td>\n",
              "      <td>9.0</td>\n",
              "      <td>154</td>\n",
              "      <td>5000</td>\n",
              "      <td>19</td>\n",
              "      <td>26</td>\n",
              "      <td>16500.0</td>\n",
              "    </tr>\n",
              "    <tr>\n",
              "      <th>3</th>\n",
              "      <td>4</td>\n",
              "      <td>2</td>\n",
              "      <td>audi 100 ls</td>\n",
              "      <td>gas</td>\n",
              "      <td>std</td>\n",
              "      <td>four</td>\n",
              "      <td>sedan</td>\n",
              "      <td>fwd</td>\n",
              "      <td>front</td>\n",
              "      <td>99.8</td>\n",
              "      <td>...</td>\n",
              "      <td>109</td>\n",
              "      <td>mpfi</td>\n",
              "      <td>3.19</td>\n",
              "      <td>3.40</td>\n",
              "      <td>10.0</td>\n",
              "      <td>102</td>\n",
              "      <td>5500</td>\n",
              "      <td>24</td>\n",
              "      <td>30</td>\n",
              "      <td>13950.0</td>\n",
              "    </tr>\n",
              "    <tr>\n",
              "      <th>4</th>\n",
              "      <td>5</td>\n",
              "      <td>2</td>\n",
              "      <td>audi 100ls</td>\n",
              "      <td>gas</td>\n",
              "      <td>std</td>\n",
              "      <td>four</td>\n",
              "      <td>sedan</td>\n",
              "      <td>4wd</td>\n",
              "      <td>front</td>\n",
              "      <td>99.4</td>\n",
              "      <td>...</td>\n",
              "      <td>136</td>\n",
              "      <td>mpfi</td>\n",
              "      <td>3.19</td>\n",
              "      <td>3.40</td>\n",
              "      <td>8.0</td>\n",
              "      <td>115</td>\n",
              "      <td>5500</td>\n",
              "      <td>18</td>\n",
              "      <td>22</td>\n",
              "      <td>17450.0</td>\n",
              "    </tr>\n",
              "    <tr>\n",
              "      <th>...</th>\n",
              "      <td>...</td>\n",
              "      <td>...</td>\n",
              "      <td>...</td>\n",
              "      <td>...</td>\n",
              "      <td>...</td>\n",
              "      <td>...</td>\n",
              "      <td>...</td>\n",
              "      <td>...</td>\n",
              "      <td>...</td>\n",
              "      <td>...</td>\n",
              "      <td>...</td>\n",
              "      <td>...</td>\n",
              "      <td>...</td>\n",
              "      <td>...</td>\n",
              "      <td>...</td>\n",
              "      <td>...</td>\n",
              "      <td>...</td>\n",
              "      <td>...</td>\n",
              "      <td>...</td>\n",
              "      <td>...</td>\n",
              "      <td>...</td>\n",
              "    </tr>\n",
              "    <tr>\n",
              "      <th>200</th>\n",
              "      <td>201</td>\n",
              "      <td>-1</td>\n",
              "      <td>volvo 145e (sw)</td>\n",
              "      <td>gas</td>\n",
              "      <td>std</td>\n",
              "      <td>four</td>\n",
              "      <td>sedan</td>\n",
              "      <td>rwd</td>\n",
              "      <td>front</td>\n",
              "      <td>109.1</td>\n",
              "      <td>...</td>\n",
              "      <td>141</td>\n",
              "      <td>mpfi</td>\n",
              "      <td>3.78</td>\n",
              "      <td>3.15</td>\n",
              "      <td>9.5</td>\n",
              "      <td>114</td>\n",
              "      <td>5400</td>\n",
              "      <td>23</td>\n",
              "      <td>28</td>\n",
              "      <td>16845.0</td>\n",
              "    </tr>\n",
              "    <tr>\n",
              "      <th>201</th>\n",
              "      <td>202</td>\n",
              "      <td>-1</td>\n",
              "      <td>volvo 144ea</td>\n",
              "      <td>gas</td>\n",
              "      <td>turbo</td>\n",
              "      <td>four</td>\n",
              "      <td>sedan</td>\n",
              "      <td>rwd</td>\n",
              "      <td>front</td>\n",
              "      <td>109.1</td>\n",
              "      <td>...</td>\n",
              "      <td>141</td>\n",
              "      <td>mpfi</td>\n",
              "      <td>3.78</td>\n",
              "      <td>3.15</td>\n",
              "      <td>8.7</td>\n",
              "      <td>160</td>\n",
              "      <td>5300</td>\n",
              "      <td>19</td>\n",
              "      <td>25</td>\n",
              "      <td>19045.0</td>\n",
              "    </tr>\n",
              "    <tr>\n",
              "      <th>202</th>\n",
              "      <td>203</td>\n",
              "      <td>-1</td>\n",
              "      <td>volvo 244dl</td>\n",
              "      <td>gas</td>\n",
              "      <td>std</td>\n",
              "      <td>four</td>\n",
              "      <td>sedan</td>\n",
              "      <td>rwd</td>\n",
              "      <td>front</td>\n",
              "      <td>109.1</td>\n",
              "      <td>...</td>\n",
              "      <td>173</td>\n",
              "      <td>mpfi</td>\n",
              "      <td>3.58</td>\n",
              "      <td>2.87</td>\n",
              "      <td>8.8</td>\n",
              "      <td>134</td>\n",
              "      <td>5500</td>\n",
              "      <td>18</td>\n",
              "      <td>23</td>\n",
              "      <td>21485.0</td>\n",
              "    </tr>\n",
              "    <tr>\n",
              "      <th>203</th>\n",
              "      <td>204</td>\n",
              "      <td>-1</td>\n",
              "      <td>volvo 246</td>\n",
              "      <td>diesel</td>\n",
              "      <td>turbo</td>\n",
              "      <td>four</td>\n",
              "      <td>sedan</td>\n",
              "      <td>rwd</td>\n",
              "      <td>front</td>\n",
              "      <td>109.1</td>\n",
              "      <td>...</td>\n",
              "      <td>145</td>\n",
              "      <td>idi</td>\n",
              "      <td>3.01</td>\n",
              "      <td>3.40</td>\n",
              "      <td>23.0</td>\n",
              "      <td>106</td>\n",
              "      <td>4800</td>\n",
              "      <td>26</td>\n",
              "      <td>27</td>\n",
              "      <td>22470.0</td>\n",
              "    </tr>\n",
              "    <tr>\n",
              "      <th>204</th>\n",
              "      <td>205</td>\n",
              "      <td>-1</td>\n",
              "      <td>volvo 264gl</td>\n",
              "      <td>gas</td>\n",
              "      <td>turbo</td>\n",
              "      <td>four</td>\n",
              "      <td>sedan</td>\n",
              "      <td>rwd</td>\n",
              "      <td>front</td>\n",
              "      <td>109.1</td>\n",
              "      <td>...</td>\n",
              "      <td>141</td>\n",
              "      <td>mpfi</td>\n",
              "      <td>3.78</td>\n",
              "      <td>3.15</td>\n",
              "      <td>9.5</td>\n",
              "      <td>114</td>\n",
              "      <td>5400</td>\n",
              "      <td>19</td>\n",
              "      <td>25</td>\n",
              "      <td>22625.0</td>\n",
              "    </tr>\n",
              "  </tbody>\n",
              "</table>\n",
              "<p>205 rows × 26 columns</p>\n",
              "</div>\n",
              "      <button class=\"colab-df-convert\" onclick=\"convertToInteractive('df-2032f519-89e6-4172-af60-99df1a793a47')\"\n",
              "              title=\"Convert this dataframe to an interactive table.\"\n",
              "              style=\"display:none;\">\n",
              "        \n",
              "  <svg xmlns=\"http://www.w3.org/2000/svg\" height=\"24px\"viewBox=\"0 0 24 24\"\n",
              "       width=\"24px\">\n",
              "    <path d=\"M0 0h24v24H0V0z\" fill=\"none\"/>\n",
              "    <path d=\"M18.56 5.44l.94 2.06.94-2.06 2.06-.94-2.06-.94-.94-2.06-.94 2.06-2.06.94zm-11 1L8.5 8.5l.94-2.06 2.06-.94-2.06-.94L8.5 2.5l-.94 2.06-2.06.94zm10 10l.94 2.06.94-2.06 2.06-.94-2.06-.94-.94-2.06-.94 2.06-2.06.94z\"/><path d=\"M17.41 7.96l-1.37-1.37c-.4-.4-.92-.59-1.43-.59-.52 0-1.04.2-1.43.59L10.3 9.45l-7.72 7.72c-.78.78-.78 2.05 0 2.83L4 21.41c.39.39.9.59 1.41.59.51 0 1.02-.2 1.41-.59l7.78-7.78 2.81-2.81c.8-.78.8-2.07 0-2.86zM5.41 20L4 18.59l7.72-7.72 1.47 1.35L5.41 20z\"/>\n",
              "  </svg>\n",
              "      </button>\n",
              "      \n",
              "  <style>\n",
              "    .colab-df-container {\n",
              "      display:flex;\n",
              "      flex-wrap:wrap;\n",
              "      gap: 12px;\n",
              "    }\n",
              "\n",
              "    .colab-df-convert {\n",
              "      background-color: #E8F0FE;\n",
              "      border: none;\n",
              "      border-radius: 50%;\n",
              "      cursor: pointer;\n",
              "      display: none;\n",
              "      fill: #1967D2;\n",
              "      height: 32px;\n",
              "      padding: 0 0 0 0;\n",
              "      width: 32px;\n",
              "    }\n",
              "\n",
              "    .colab-df-convert:hover {\n",
              "      background-color: #E2EBFA;\n",
              "      box-shadow: 0px 1px 2px rgba(60, 64, 67, 0.3), 0px 1px 3px 1px rgba(60, 64, 67, 0.15);\n",
              "      fill: #174EA6;\n",
              "    }\n",
              "\n",
              "    [theme=dark] .colab-df-convert {\n",
              "      background-color: #3B4455;\n",
              "      fill: #D2E3FC;\n",
              "    }\n",
              "\n",
              "    [theme=dark] .colab-df-convert:hover {\n",
              "      background-color: #434B5C;\n",
              "      box-shadow: 0px 1px 3px 1px rgba(0, 0, 0, 0.15);\n",
              "      filter: drop-shadow(0px 1px 2px rgba(0, 0, 0, 0.3));\n",
              "      fill: #FFFFFF;\n",
              "    }\n",
              "  </style>\n",
              "\n",
              "      <script>\n",
              "        const buttonEl =\n",
              "          document.querySelector('#df-2032f519-89e6-4172-af60-99df1a793a47 button.colab-df-convert');\n",
              "        buttonEl.style.display =\n",
              "          google.colab.kernel.accessAllowed ? 'block' : 'none';\n",
              "\n",
              "        async function convertToInteractive(key) {\n",
              "          const element = document.querySelector('#df-2032f519-89e6-4172-af60-99df1a793a47');\n",
              "          const dataTable =\n",
              "            await google.colab.kernel.invokeFunction('convertToInteractive',\n",
              "                                                     [key], {});\n",
              "          if (!dataTable) return;\n",
              "\n",
              "          const docLinkHtml = 'Like what you see? Visit the ' +\n",
              "            '<a target=\"_blank\" href=https://colab.research.google.com/notebooks/data_table.ipynb>data table notebook</a>'\n",
              "            + ' to learn more about interactive tables.';\n",
              "          element.innerHTML = '';\n",
              "          dataTable['output_type'] = 'display_data';\n",
              "          await google.colab.output.renderOutput(dataTable, element);\n",
              "          const docLink = document.createElement('div');\n",
              "          docLink.innerHTML = docLinkHtml;\n",
              "          element.appendChild(docLink);\n",
              "        }\n",
              "      </script>\n",
              "    </div>\n",
              "  </div>\n",
              "  "
            ]
          },
          "metadata": {},
          "execution_count": 3
        }
      ]
    },
    {
      "cell_type": "code",
      "source": [
        "print(cars.info())"
      ],
      "metadata": {
        "colab": {
          "base_uri": "https://localhost:8080/"
        },
        "id": "YUjw13jFyh6O",
        "outputId": "1ab9ba42-ff53-4f74-be33-99ab58550ba7"
      },
      "execution_count": null,
      "outputs": [
        {
          "output_type": "stream",
          "name": "stdout",
          "text": [
            "<class 'pandas.core.frame.DataFrame'>\n",
            "RangeIndex: 205 entries, 0 to 204\n",
            "Data columns (total 26 columns):\n",
            " #   Column            Non-Null Count  Dtype  \n",
            "---  ------            --------------  -----  \n",
            " 0   car_ID            205 non-null    int64  \n",
            " 1   symboling         205 non-null    int64  \n",
            " 2   CarName           205 non-null    object \n",
            " 3   fueltype          205 non-null    object \n",
            " 4   aspiration        205 non-null    object \n",
            " 5   doornumber        205 non-null    object \n",
            " 6   carbody           205 non-null    object \n",
            " 7   drivewheel        205 non-null    object \n",
            " 8   enginelocation    205 non-null    object \n",
            " 9   wheelbase         205 non-null    float64\n",
            " 10  carlength         205 non-null    float64\n",
            " 11  carwidth          205 non-null    float64\n",
            " 12  carheight         205 non-null    float64\n",
            " 13  curbweight        205 non-null    int64  \n",
            " 14  enginetype        205 non-null    object \n",
            " 15  cylindernumber    205 non-null    object \n",
            " 16  enginesize        205 non-null    int64  \n",
            " 17  fuelsystem        205 non-null    object \n",
            " 18  boreratio         205 non-null    float64\n",
            " 19  stroke            205 non-null    float64\n",
            " 20  compressionratio  205 non-null    float64\n",
            " 21  horsepower        205 non-null    int64  \n",
            " 22  peakrpm           205 non-null    int64  \n",
            " 23  citympg           205 non-null    int64  \n",
            " 24  highwaympg        205 non-null    int64  \n",
            " 25  price             205 non-null    float64\n",
            "dtypes: float64(8), int64(8), object(10)\n",
            "memory usage: 41.8+ KB\n",
            "None\n"
          ]
        }
      ]
    },
    {
      "cell_type": "code",
      "source": [
        "# converting symboling to categorical\n",
        "cars['symboling'] = cars['symboling'].astype('object')\n",
        "cars.info()"
      ],
      "metadata": {
        "colab": {
          "base_uri": "https://localhost:8080/"
        },
        "id": "8GHHEq5QuHsl",
        "outputId": "8a55ce72-6e19-41ea-ac8c-3c345e20262f"
      },
      "execution_count": null,
      "outputs": [
        {
          "output_type": "stream",
          "name": "stdout",
          "text": [
            "<class 'pandas.core.frame.DataFrame'>\n",
            "RangeIndex: 205 entries, 0 to 204\n",
            "Data columns (total 26 columns):\n",
            " #   Column            Non-Null Count  Dtype  \n",
            "---  ------            --------------  -----  \n",
            " 0   car_ID            205 non-null    int64  \n",
            " 1   symboling         205 non-null    object \n",
            " 2   CarName           205 non-null    object \n",
            " 3   fueltype          205 non-null    object \n",
            " 4   aspiration        205 non-null    object \n",
            " 5   doornumber        205 non-null    object \n",
            " 6   carbody           205 non-null    object \n",
            " 7   drivewheel        205 non-null    object \n",
            " 8   enginelocation    205 non-null    object \n",
            " 9   wheelbase         205 non-null    float64\n",
            " 10  carlength         205 non-null    float64\n",
            " 11  carwidth          205 non-null    float64\n",
            " 12  carheight         205 non-null    float64\n",
            " 13  curbweight        205 non-null    int64  \n",
            " 14  enginetype        205 non-null    object \n",
            " 15  cylindernumber    205 non-null    object \n",
            " 16  enginesize        205 non-null    int64  \n",
            " 17  fuelsystem        205 non-null    object \n",
            " 18  boreratio         205 non-null    float64\n",
            " 19  stroke            205 non-null    float64\n",
            " 20  compressionratio  205 non-null    float64\n",
            " 21  horsepower        205 non-null    int64  \n",
            " 22  peakrpm           205 non-null    int64  \n",
            " 23  citympg           205 non-null    int64  \n",
            " 24  highwaympg        205 non-null    int64  \n",
            " 25  price             205 non-null    float64\n",
            "dtypes: float64(8), int64(7), object(11)\n",
            "memory usage: 41.8+ KB\n"
          ]
        }
      ]
    },
    {
      "cell_type": "markdown",
      "source": [
        "***Understanding the data***"
      ],
      "metadata": {
        "id": "QtUrAXNY02iM"
      }
    },
    {
      "cell_type": "code",
      "source": [
        "cars['symboling'].astype('category').value_counts()\n",
        "\n",
        "#symboling represents the level of risk"
      ],
      "metadata": {
        "colab": {
          "base_uri": "https://localhost:8080/"
        },
        "id": "ClIkQRMg0naO",
        "outputId": "ad267672-f9d9-4b08-cac2-03122c17b95d"
      },
      "execution_count": null,
      "outputs": [
        {
          "output_type": "execute_result",
          "data": {
            "text/plain": [
              "0     67\n",
              "1     54\n",
              "2     32\n",
              "3     27\n",
              "-1    22\n",
              "-2     3\n",
              "Name: symboling, dtype: int64"
            ]
          },
          "metadata": {},
          "execution_count": 6
        }
      ]
    },
    {
      "cell_type": "code",
      "source": [
        "cars['aspiration'].astype('category').value_counts()\n",
        "\n",
        "#aspiration - std and turbo is the oxygen intake property\n"
      ],
      "metadata": {
        "colab": {
          "base_uri": "https://localhost:8080/"
        },
        "id": "UxkoaYrt1Qd0",
        "outputId": "793903c5-da7e-404f-914c-adeb33795500"
      },
      "execution_count": null,
      "outputs": [
        {
          "output_type": "execute_result",
          "data": {
            "text/plain": [
              "std      168\n",
              "turbo     37\n",
              "Name: aspiration, dtype: int64"
            ]
          },
          "metadata": {},
          "execution_count": 7
        }
      ]
    },
    {
      "cell_type": "code",
      "source": [
        "# drivewheel: frontwheel, rarewheel or four-wheel drive \n",
        "cars['drivewheel'].astype('category').value_counts()"
      ],
      "metadata": {
        "colab": {
          "base_uri": "https://localhost:8080/"
        },
        "id": "af3c96_g1rHs",
        "outputId": "885286d8-4cf7-4cc5-a77a-7e1b66e9b8aa"
      },
      "execution_count": null,
      "outputs": [
        {
          "output_type": "execute_result",
          "data": {
            "text/plain": [
              "fwd    120\n",
              "rwd     76\n",
              "4wd      9\n",
              "Name: drivewheel, dtype: int64"
            ]
          },
          "metadata": {},
          "execution_count": 8
        }
      ]
    },
    {
      "cell_type": "code",
      "source": [
        "# wheelbase: distance between centre of front and rarewheels\n",
        "sns.distplot(cars['wheelbase'])\n",
        "plt.show()"
      ],
      "metadata": {
        "colab": {
          "base_uri": "https://localhost:8080/",
          "height": 480
        },
        "id": "0doIxopB1tt0",
        "outputId": "e5691c2e-277c-4e3f-eb2f-718ba9458465"
      },
      "execution_count": null,
      "outputs": [
        {
          "output_type": "stream",
          "name": "stderr",
          "text": [
            "<ipython-input-9-14ae02024d2e>:2: UserWarning: \n",
            "\n",
            "`distplot` is a deprecated function and will be removed in seaborn v0.14.0.\n",
            "\n",
            "Please adapt your code to use either `displot` (a figure-level function with\n",
            "similar flexibility) or `histplot` (an axes-level function for histograms).\n",
            "\n",
            "For a guide to updating your code to use the new functions, please see\n",
            "https://gist.github.com/mwaskom/de44147ed2974457ad6372750bbe5751\n",
            "\n",
            "  sns.distplot(cars['wheelbase'])\n"
          ]
        },
        {
          "output_type": "display_data",
          "data": {
            "text/plain": [
              "<Figure size 432x288 with 1 Axes>"
            ],
            "image/png": "[encoded data removed]"
          },
          "metadata": {
            "needs_background": "light"
          }
        }
      ]
    },
    {
      "cell_type": "code",
      "source": [
        "# target variable: price of car\n",
        "sns.distplot(cars['price'])\n",
        "plt.show()"
      ],
      "metadata": {
        "colab": {
          "base_uri": "https://localhost:8080/",
          "height": 480
        },
        "id": "kH51B6cl13Wk",
        "outputId": "d4aa090c-65af-4bb2-e978-fbe104dcc4ca"
      },
      "execution_count": null,
      "outputs": [
        {
          "output_type": "stream",
          "name": "stderr",
          "text": [
            "<ipython-input-10-17e3b5d273f0>:2: UserWarning: \n",
            "\n",
            "`distplot` is a deprecated function and will be removed in seaborn v0.14.0.\n",
            "\n",
            "Please adapt your code to use either `displot` (a figure-level function with\n",
            "similar flexibility) or `histplot` (an axes-level function for histograms).\n",
            "\n",
            "For a guide to updating your code to use the new functions, please see\n",
            "https://gist.github.com/mwaskom/de44147ed2974457ad6372750bbe5751\n",
            "\n",
            "  sns.distplot(cars['price'])\n"
          ]
        },
        {
          "output_type": "display_data",
          "data": {
            "text/plain": [
              "<Figure size 432x288 with 1 Axes>"
            ],
            "image/png": "[encoded data removed]"
          },
          "metadata": {
            "needs_background": "light"
          }
        }
      ]
    },
    {
      "cell_type": "markdown",
      "source": [
        "***Data Exploration***"
      ],
      "metadata": {
        "id": "5gq-GYhY2Fot"
      }
    },
    {
      "cell_type": "code",
      "source": [
        "#Float and integer variables in the dataset\n",
        "cars_numeric = cars.select_dtypes(include=['float64', 'int'])\n"
      ],
      "metadata": {
        "id": "tMc8Lt5E1868"
      },
      "execution_count": null,
      "outputs": []
    },
    {
      "cell_type": "code",
      "source": [
        "# correlation matrix to check the correlation between the variables\n",
        "correlation = cars_numeric.corr()\n",
        "correlation"
      ],
      "metadata": {
        "colab": {
          "base_uri": "https://localhost:8080/",
          "height": 519
        },
        "id": "78RJhwd019Dk",
        "outputId": "7d491624-d61b-4b4c-e17e-6a5f9dd671b3"
      },
      "execution_count": null,
      "outputs": [
        {
          "output_type": "execute_result",
          "data": {
            "text/plain": [
              "                    car_ID  wheelbase  carlength  carwidth  carheight  \\\n",
              "car_ID            1.000000   0.129729   0.170636  0.052387   0.255960   \n",
              "wheelbase         0.129729   1.000000   0.874587  0.795144   0.589435   \n",
              "carlength         0.170636   0.874587   1.000000  0.841118   0.491029   \n",
              "carwidth          0.052387   0.795144   0.841118  1.000000   0.279210   \n",
              "carheight         0.255960   0.589435   0.491029  0.279210   1.000000   \n",
              "curbweight        0.071962   0.776386   0.877728  0.867032   0.295572   \n",
              "enginesize       -0.033930   0.569329   0.683360  0.735433   0.067149   \n",
              "boreratio         0.260064   0.488750   0.606454  0.559150   0.171071   \n",
              "stroke           -0.160824   0.160959   0.129533  0.182942  -0.055307   \n",
              "compressionratio  0.150276   0.249786   0.158414  0.181129   0.261214   \n",
              "horsepower       -0.015006   0.353294   0.552623  0.640732  -0.108802   \n",
              "peakrpm          -0.203789  -0.360469  -0.287242 -0.220012  -0.320411   \n",
              "citympg           0.015940  -0.470414  -0.670909 -0.642704  -0.048640   \n",
              "highwaympg        0.011255  -0.544082  -0.704662 -0.677218  -0.107358   \n",
              "price            -0.109093   0.577816   0.682920  0.759325   0.119336   \n",
              "\n",
              "                  curbweight  enginesize  boreratio    stroke  \\\n",
              "car_ID              0.071962   -0.033930   0.260064 -0.160824   \n",
              "wheelbase           0.776386    0.569329   0.488750  0.160959   \n",
              "carlength           0.877728    0.683360   0.606454  0.129533   \n",
              "carwidth            0.867032    0.735433   0.559150  0.182942   \n",
              "carheight           0.295572    0.067149   0.171071 -0.055307   \n",
              "curbweight          1.000000    0.850594   0.648480  0.168790   \n",
              "enginesize          0.850594    1.000000   0.583774  0.203129   \n",
              "boreratio           0.648480    0.583774   1.000000 -0.055909   \n",
              "stroke              0.168790    0.203129  -0.055909  1.000000   \n",
              "compressionratio    0.151362    0.028971   0.005197  0.186110   \n",
              "horsepower          0.750739    0.809769   0.573677  0.080940   \n",
              "peakrpm            -0.266243   -0.244660  -0.254976 -0.067964   \n",
              "citympg            -0.757414   -0.653658  -0.584532 -0.042145   \n",
              "highwaympg         -0.797465   -0.677470  -0.587012 -0.043931   \n",
              "price               0.835305    0.874145   0.553173  0.079443   \n",
              "\n",
              "                  compressionratio  horsepower   peakrpm   citympg  \\\n",
              "car_ID                    0.150276   -0.015006 -0.203789  0.015940   \n",
              "wheelbase                 0.249786    0.353294 -0.360469 -0.470414   \n",
              "carlength                 0.158414    0.552623 -0.287242 -0.670909   \n",
              "carwidth                  0.181129    0.640732 -0.220012 -0.642704   \n",
              "carheight                 0.261214   -0.108802 -0.320411 -0.048640   \n",
              "curbweight                0.151362    0.750739 -0.266243 -0.757414   \n",
              "enginesize                0.028971    0.809769 -0.244660 -0.653658   \n",
              "boreratio                 0.005197    0.573677 -0.254976 -0.584532   \n",
              "stroke                    0.186110    0.080940 -0.067964 -0.042145   \n",
              "compressionratio          1.000000   -0.204326 -0.435741  0.324701   \n",
              "horsepower               -0.204326    1.000000  0.131073 -0.801456   \n",
              "peakrpm                  -0.435741    0.131073  1.000000 -0.113544   \n",
              "citympg                   0.324701   -0.801456 -0.113544  1.000000   \n",
              "highwaympg                0.265201   -0.770544 -0.054275  0.971337   \n",
              "price                     0.067984    0.808139 -0.085267 -0.685751   \n",
              "\n",
              "                  highwaympg     price  \n",
              "car_ID              0.011255 -0.109093  \n",
              "wheelbase          -0.544082  0.577816  \n",
              "carlength          -0.704662  0.682920  \n",
              "carwidth           -0.677218  0.759325  \n",
              "carheight          -0.107358  0.119336  \n",
              "curbweight         -0.797465  0.835305  \n",
              "enginesize         -0.677470  0.874145  \n",
              "boreratio          -0.587012  0.553173  \n",
              "stroke             -0.043931  0.079443  \n",
              "compressionratio    0.265201  0.067984  \n",
              "horsepower         -0.770544  0.808139  \n",
              "peakrpm            -0.054275 -0.085267  \n",
              "citympg             0.971337 -0.685751  \n",
              "highwaympg          1.000000 -0.697599  \n",
              "price              -0.697599  1.000000  "
            ],
            "text/html": [
              "\n",
              "  <div id=\"df-7b267de8-e4ea-413c-9b9a-dd7a8f4d7325\">\n",
              "    <div class=\"colab-df-container\">\n",
              "      <div>\n",
              "<style scoped>\n",
              "    .dataframe tbody tr th:only-of-type {\n",
              "        vertical-align: middle;\n",
              "    }\n",
              "\n",
              "    .dataframe tbody tr th {\n",
              "        vertical-align: top;\n",
              "    }\n",
              "\n",
              "    .dataframe thead th {\n",
              "        text-align: right;\n",
              "    }\n",
              "</style>\n",
              "<table border=\"1\" class=\"dataframe\">\n",
              "  <thead>\n",
              "    <tr style=\"text-align: right;\">\n",
              "      <th></th>\n",
              "      <th>car_ID</th>\n",
              "      <th>wheelbase</th>\n",
              "      <th>carlength</th>\n",
              "      <th>carwidth</th>\n",
              "      <th>carheight</th>\n",
              "      <th>curbweight</th>\n",
              "      <th>enginesize</th>\n",
              "      <th>boreratio</th>\n",
              "      <th>stroke</th>\n",
              "      <th>compressionratio</th>\n",
              "      <th>horsepower</th>\n",
              "      <th>peakrpm</th>\n",
              "      <th>citympg</th>\n",
              "      <th>highwaympg</th>\n",
              "      <th>price</th>\n",
              "    </tr>\n",
              "  </thead>\n",
              "  <tbody>\n",
              "    <tr>\n",
              "      <th>car_ID</th>\n",
              "      <td>1.000000</td>\n",
              "      <td>0.129729</td>\n",
              "      <td>0.170636</td>\n",
              "      <td>0.052387</td>\n",
              "      <td>0.255960</td>\n",
              "      <td>0.071962</td>\n",
              "      <td>-0.033930</td>\n",
              "      <td>0.260064</td>\n",
              "      <td>-0.160824</td>\n",
              "      <td>0.150276</td>\n",
              "      <td>-0.015006</td>\n",
              "      <td>-0.203789</td>\n",
              "      <td>0.015940</td>\n",
              "      <td>0.011255</td>\n",
              "      <td>-0.109093</td>\n",
              "    </tr>\n",
              "    <tr>\n",
              "      <th>wheelbase</th>\n",
              "      <td>0.129729</td>\n",
              "      <td>1.000000</td>\n",
              "      <td>0.874587</td>\n",
              "      <td>0.795144</td>\n",
              "      <td>0.589435</td>\n",
              "      <td>0.776386</td>\n",
              "      <td>0.569329</td>\n",
              "      <td>0.488750</td>\n",
              "      <td>0.160959</td>\n",
              "      <td>0.249786</td>\n",
              "      <td>0.353294</td>\n",
              "      <td>-0.360469</td>\n",
              "      <td>-0.470414</td>\n",
              "      <td>-0.544082</td>\n",
              "      <td>0.577816</td>\n",
              "    </tr>\n",
              "    <tr>\n",
              "      <th>carlength</th>\n",
              "      <td>0.170636</td>\n",
              "      <td>0.874587</td>\n",
              "      <td>1.000000</td>\n",
              "      <td>0.841118</td>\n",
              "      <td>0.491029</td>\n",
              "      <td>0.877728</td>\n",
              "      <td>0.683360</td>\n",
              "      <td>0.606454</td>\n",
              "      <td>0.129533</td>\n",
              "      <td>0.158414</td>\n",
              "      <td>0.552623</td>\n",
              "      <td>-0.287242</td>\n",
              "      <td>-0.670909</td>\n",
              "      <td>-0.704662</td>\n",
              "      <td>0.682920</td>\n",
              "    </tr>\n",
              "    <tr>\n",
              "      <th>carwidth</th>\n",
              "      <td>0.052387</td>\n",
              "      <td>0.795144</td>\n",
              "      <td>0.841118</td>\n",
              "      <td>1.000000</td>\n",
              "      <td>0.279210</td>\n",
              "      <td>0.867032</td>\n",
              "      <td>0.735433</td>\n",
              "      <td>0.559150</td>\n",
              "      <td>0.182942</td>\n",
              "      <td>0.181129</td>\n",
              "      <td>0.640732</td>\n",
              "      <td>-0.220012</td>\n",
              "      <td>-0.642704</td>\n",
              "      <td>-0.677218</td>\n",
              "      <td>0.759325</td>\n",
              "    </tr>\n",
              "    <tr>\n",
              "      <th>carheight</th>\n",
              "      <td>0.255960</td>\n",
              "      <td>0.589435</td>\n",
              "      <td>0.491029</td>\n",
              "      <td>0.279210</td>\n",
              "      <td>1.000000</td>\n",
              "      <td>0.295572</td>\n",
              "      <td>0.067149</td>\n",
              "      <td>0.171071</td>\n",
              "      <td>-0.055307</td>\n",
              "      <td>0.261214</td>\n",
              "      <td>-0.108802</td>\n",
              "      <td>-0.320411</td>\n",
              "      <td>-0.048640</td>\n",
              "      <td>-0.107358</td>\n",
              "      <td>0.119336</td>\n",
              "    </tr>\n",
              "    <tr>\n",
              "      <th>curbweight</th>\n",
              "      <td>0.071962</td>\n",
              "      <td>0.776386</td>\n",
              "      <td>0.877728</td>\n",
              "      <td>0.867032</td>\n",
              "      <td>0.295572</td>\n",
              "      <td>1.000000</td>\n",
              "      <td>0.850594</td>\n",
              "      <td>0.648480</td>\n",
              "      <td>0.168790</td>\n",
              "      <td>0.151362</td>\n",
              "      <td>0.750739</td>\n",
              "      <td>-0.266243</td>\n",
              "      <td>-0.757414</td>\n",
              "      <td>-0.797465</td>\n",
              "      <td>0.835305</td>\n",
              "    </tr>\n",
              "    <tr>\n",
              "      <th>enginesize</th>\n",
              "      <td>-0.033930</td>\n",
              "      <td>0.569329</td>\n",
              "      <td>0.683360</td>\n",
              "      <td>0.735433</td>\n",
              "      <td>0.067149</td>\n",
              "      <td>0.850594</td>\n",
              "      <td>1.000000</td>\n",
              "      <td>0.583774</td>\n",
              "      <td>0.203129</td>\n",
              "      <td>0.028971</td>\n",
              "      <td>0.809769</td>\n",
              "      <td>-0.244660</td>\n",
              "      <td>-0.653658</td>\n",
              "      <td>-0.677470</td>\n",
              "      <td>0.874145</td>\n",
              "    </tr>\n",
              "    <tr>\n",
              "      <th>boreratio</th>\n",
              "      <td>0.260064</td>\n",
              "      <td>0.488750</td>\n",
              "      <td>0.606454</td>\n",
              "      <td>0.559150</td>\n",
              "      <td>0.171071</td>\n",
              "      <td>0.648480</td>\n",
              "      <td>0.583774</td>\n",
              "      <td>1.000000</td>\n",
              "      <td>-0.055909</td>\n",
              "      <td>0.005197</td>\n",
              "      <td>0.573677</td>\n",
              "      <td>-0.254976</td>\n",
              "      <td>-0.584532</td>\n",
              "      <td>-0.587012</td>\n",
              "      <td>0.553173</td>\n",
              "    </tr>\n",
              "    <tr>\n",
              "      <th>stroke</th>\n",
              "      <td>-0.160824</td>\n",
              "      <td>0.160959</td>\n",
              "      <td>0.129533</td>\n",
              "      <td>0.182942</td>\n",
              "      <td>-0.055307</td>\n",
              "      <td>0.168790</td>\n",
              "      <td>0.203129</td>\n",
              "      <td>-0.055909</td>\n",
              "      <td>1.000000</td>\n",
              "      <td>0.186110</td>\n",
              "      <td>0.080940</td>\n",
              "      <td>-0.067964</td>\n",
              "      <td>-0.042145</td>\n",
              "      <td>-0.043931</td>\n",
              "      <td>0.079443</td>\n",
              "    </tr>\n",
              "    <tr>\n",
              "      <th>compressionratio</th>\n",
              "      <td>0.150276</td>\n",
              "      <td>0.249786</td>\n",
              "      <td>0.158414</td>\n",
              "      <td>0.181129</td>\n",
              "      <td>0.261214</td>\n",
              "      <td>0.151362</td>\n",
              "      <td>0.028971</td>\n",
              "      <td>0.005197</td>\n",
              "      <td>0.186110</td>\n",
              "      <td>1.000000</td>\n",
              "      <td>-0.204326</td>\n",
              "      <td>-0.435741</td>\n",
              "      <td>0.324701</td>\n",
              "      <td>0.265201</td>\n",
              "      <td>0.067984</td>\n",
              "    </tr>\n",
              "    <tr>\n",
              "      <th>horsepower</th>\n",
              "      <td>-0.015006</td>\n",
              "      <td>0.353294</td>\n",
              "      <td>0.552623</td>\n",
              "      <td>0.640732</td>\n",
              "      <td>-0.108802</td>\n",
              "      <td>0.750739</td>\n",
              "      <td>0.809769</td>\n",
              "      <td>0.573677</td>\n",
              "      <td>0.080940</td>\n",
              "      <td>-0.204326</td>\n",
              "      <td>1.000000</td>\n",
              "      <td>0.131073</td>\n",
              "      <td>-0.801456</td>\n",
              "      <td>-0.770544</td>\n",
              "      <td>0.808139</td>\n",
              "    </tr>\n",
              "    <tr>\n",
              "      <th>peakrpm</th>\n",
              "      <td>-0.203789</td>\n",
              "      <td>-0.360469</td>\n",
              "      <td>-0.287242</td>\n",
              "      <td>-0.220012</td>\n",
              "      <td>-0.320411</td>\n",
              "      <td>-0.266243</td>\n",
              "      <td>-0.244660</td>\n",
              "      <td>-0.254976</td>\n",
              "      <td>-0.067964</td>\n",
              "      <td>-0.435741</td>\n",
              "      <td>0.131073</td>\n",
              "      <td>1.000000</td>\n",
              "      <td>-0.113544</td>\n",
              "      <td>-0.054275</td>\n",
              "      <td>-0.085267</td>\n",
              "    </tr>\n",
              "    <tr>\n",
              "      <th>citympg</th>\n",
              "      <td>0.015940</td>\n",
              "      <td>-0.470414</td>\n",
              "      <td>-0.670909</td>\n",
              "      <td>-0.642704</td>\n",
              "      <td>-0.048640</td>\n",
              "      <td>-0.757414</td>\n",
              "      <td>-0.653658</td>\n",
              "      <td>-0.584532</td>\n",
              "      <td>-0.042145</td>\n",
              "      <td>0.324701</td>\n",
              "      <td>-0.801456</td>\n",
              "      <td>-0.113544</td>\n",
              "      <td>1.000000</td>\n",
              "      <td>0.971337</td>\n",
              "      <td>-0.685751</td>\n",
              "    </tr>\n",
              "    <tr>\n",
              "      <th>highwaympg</th>\n",
              "      <td>0.011255</td>\n",
              "      <td>-0.544082</td>\n",
              "      <td>-0.704662</td>\n",
              "      <td>-0.677218</td>\n",
              "      <td>-0.107358</td>\n",
              "      <td>-0.797465</td>\n",
              "      <td>-0.677470</td>\n",
              "      <td>-0.587012</td>\n",
              "      <td>-0.043931</td>\n",
              "      <td>0.265201</td>\n",
              "      <td>-0.770544</td>\n",
              "      <td>-0.054275</td>\n",
              "      <td>0.971337</td>\n",
              "      <td>1.000000</td>\n",
              "      <td>-0.697599</td>\n",
              "    </tr>\n",
              "    <tr>\n",
              "      <th>price</th>\n",
              "      <td>-0.109093</td>\n",
              "      <td>0.577816</td>\n",
              "      <td>0.682920</td>\n",
              "      <td>0.759325</td>\n",
              "      <td>0.119336</td>\n",
              "      <td>0.835305</td>\n",
              "      <td>0.874145</td>\n",
              "      <td>0.553173</td>\n",
              "      <td>0.079443</td>\n",
              "      <td>0.067984</td>\n",
              "      <td>0.808139</td>\n",
              "      <td>-0.085267</td>\n",
              "      <td>-0.685751</td>\n",
              "      <td>-0.697599</td>\n",
              "      <td>1.000000</td>\n",
              "    </tr>\n",
              "  </tbody>\n",
              "</table>\n",
              "</div>\n",
              "      <button class=\"colab-df-convert\" onclick=\"convertToInteractive('df-7b267de8-e4ea-413c-9b9a-dd7a8f4d7325')\"\n",
              "              title=\"Convert this dataframe to an interactive table.\"\n",
              "              style=\"display:none;\">\n",
              "        \n",
              "  <svg xmlns=\"http://www.w3.org/2000/svg\" height=\"24px\"viewBox=\"0 0 24 24\"\n",
              "       width=\"24px\">\n",
              "    <path d=\"M0 0h24v24H0V0z\" fill=\"none\"/>\n",
              "    <path d=\"M18.56 5.44l.94 2.06.94-2.06 2.06-.94-2.06-.94-.94-2.06-.94 2.06-2.06.94zm-11 1L8.5 8.5l.94-2.06 2.06-.94-2.06-.94L8.5 2.5l-.94 2.06-2.06.94zm10 10l.94 2.06.94-2.06 2.06-.94-2.06-.94-.94-2.06-.94 2.06-2.06.94z\"/><path d=\"M17.41 7.96l-1.37-1.37c-.4-.4-.92-.59-1.43-.59-.52 0-1.04.2-1.43.59L10.3 9.45l-7.72 7.72c-.78.78-.78 2.05 0 2.83L4 21.41c.39.39.9.59 1.41.59.51 0 1.02-.2 1.41-.59l7.78-7.78 2.81-2.81c.8-.78.8-2.07 0-2.86zM5.41 20L4 18.59l7.72-7.72 1.47 1.35L5.41 20z\"/>\n",
              "  </svg>\n",
              "      </button>\n",
              "      \n",
              "  <style>\n",
              "    .colab-df-container {\n",
              "      display:flex;\n",
              "      flex-wrap:wrap;\n",
              "      gap: 12px;\n",
              "    }\n",
              "\n",
              "    .colab-df-convert {\n",
              "      background-color: #E8F0FE;\n",
              "      border: none;\n",
              "      border-radius: 50%;\n",
              "      cursor: pointer;\n",
              "      display: none;\n",
              "      fill: #1967D2;\n",
              "      height: 32px;\n",
              "      padding: 0 0 0 0;\n",
              "      width: 32px;\n",
              "    }\n",
              "\n",
              "    .colab-df-convert:hover {\n",
              "      background-color: #E2EBFA;\n",
              "      box-shadow: 0px 1px 2px rgba(60, 64, 67, 0.3), 0px 1px 3px 1px rgba(60, 64, 67, 0.15);\n",
              "      fill: #174EA6;\n",
              "    }\n",
              "\n",
              "    [theme=dark] .colab-df-convert {\n",
              "      background-color: #3B4455;\n",
              "      fill: #D2E3FC;\n",
              "    }\n",
              "\n",
              "    [theme=dark] .colab-df-convert:hover {\n",
              "      background-color: #434B5C;\n",
              "      box-shadow: 0px 1px 3px 1px rgba(0, 0, 0, 0.15);\n",
              "      filter: drop-shadow(0px 1px 2px rgba(0, 0, 0, 0.3));\n",
              "      fill: #FFFFFF;\n",
              "    }\n",
              "  </style>\n",
              "\n",
              "      <script>\n",
              "        const buttonEl =\n",
              "          document.querySelector('#df-7b267de8-e4ea-413c-9b9a-dd7a8f4d7325 button.colab-df-convert');\n",
              "        buttonEl.style.display =\n",
              "          google.colab.kernel.accessAllowed ? 'block' : 'none';\n",
              "\n",
              "        async function convertToInteractive(key) {\n",
              "          const element = document.querySelector('#df-7b267de8-e4ea-413c-9b9a-dd7a8f4d7325');\n",
              "          const dataTable =\n",
              "            await google.colab.kernel.invokeFunction('convertToInteractive',\n",
              "                                                     [key], {});\n",
              "          if (!dataTable) return;\n",
              "\n",
              "          const docLinkHtml = 'Like what you see? Visit the ' +\n",
              "            '<a target=\"_blank\" href=https://colab.research.google.com/notebooks/data_table.ipynb>data table notebook</a>'\n",
              "            + ' to learn more about interactive tables.';\n",
              "          element.innerHTML = '';\n",
              "          dataTable['output_type'] = 'display_data';\n",
              "          await google.colab.output.renderOutput(dataTable, element);\n",
              "          const docLink = document.createElement('div');\n",
              "          docLink.innerHTML = docLinkHtml;\n",
              "          element.appendChild(docLink);\n",
              "        }\n",
              "      </script>\n",
              "    </div>\n",
              "  </div>\n",
              "  "
            ]
          },
          "metadata": {},
          "execution_count": 12
        }
      ]
    },
    {
      "cell_type": "code",
      "source": [
        "# plotting correlations on a heatmap\n",
        "\n",
        "plt.figure(figsize=(16,8))\n",
        "sns.heatmap(correlation, cmap=\"YlGnBu\", annot=True)\n",
        "plt.show()"
      ],
      "metadata": {
        "colab": {
          "base_uri": "https://localhost:8080/",
          "height": 563
        },
        "id": "lsdw_fJP3d49",
        "outputId": "bf6fc454-f533-4abb-a9a0-796f31e785b7"
      },
      "execution_count": null,
      "outputs": [
        {
          "output_type": "display_data",
          "data": {
            "text/plain": [
              "<Figure size 1152x576 with 2 Axes>"
            ],
            "image/png": "[encoded data removed]"
          },
          "metadata": {
            "needs_background": "light"
          }
        }
      ]
    },
    {
      "cell_type": "markdown",
      "source": [
        "Price is highly (positively) correlated with wheelbase, carlength, carwidth, curbweight, enginesize, horsepower (notice how all of these variables represent the size/weight/engine power of the car)"
      ],
      "metadata": {
        "id": "udqZz29R3ufE"
      }
    },
    {
      "cell_type": "code",
      "source": [
        "fig, ax = plt.subplots(1, figsize=(20, 20))\n",
        "sns.boxplot(data=cars_numeric.iloc[:,1:-1])"
      ],
      "metadata": {
        "colab": {
          "base_uri": "https://localhost:8080/",
          "height": 1000
        },
        "id": "M3awJqLwAAud",
        "outputId": "ec7d22f6-49be-47cb-ab9b-a077cf8de4c5"
      },
      "execution_count": null,
      "outputs": [
        {
          "output_type": "execute_result",
          "data": {
            "text/plain": [
              "<Axes: >"
            ]
          },
          "metadata": {},
          "execution_count": 14
        },
        {
          "output_type": "display_data",
          "data": {
            "text/plain": [
              "<Figure size 1440x1440 with 1 Axes>"
            ],
            "image/png": "[encoded data removed]"
          },
          "metadata": {
            "needs_background": "light"
          }
        }
      ]
    },
    {
      "cell_type": "code",
      "source": [
        "from sklearn.preprocessing import StandardScaler\n",
        "ss = StandardScaler()\n",
        "cars_std = ss.fit_transform(cars_numeric.iloc[:, 1:-1])\n",
        "cars_std"
      ],
      "metadata": {
        "colab": {
          "base_uri": "https://localhost:8080/"
        },
        "id": "T8c_n3Tl_-iJ",
        "outputId": "f44328f9-6767-4464-d07c-d44a09968e2b"
      },
      "execution_count": null,
      "outputs": [
        {
          "output_type": "execute_result",
          "data": {
            "text/plain": [
              "array([[-1.6907718 , -0.42652147, -0.84478235, ..., -0.26296022,\n",
              "        -0.64655303, -0.54605874],\n",
              "       [-1.6907718 , -0.42652147, -0.84478235, ..., -0.26296022,\n",
              "        -0.64655303, -0.54605874],\n",
              "       [-0.70859588, -0.23151305, -0.19056612, ..., -0.26296022,\n",
              "        -0.95301169, -0.69162706],\n",
              "       ...,\n",
              "       [ 1.72187336,  1.19854871,  1.39824472, ...,  0.78785546,\n",
              "        -1.10624102, -1.12833203],\n",
              "       [ 1.72187336,  1.19854871,  1.39824472, ..., -0.68328649,\n",
              "         0.11959362, -0.54605874],\n",
              "       [ 1.72187336,  1.19854871,  1.39824472, ...,  0.57769233,\n",
              "        -0.95301169, -0.83719538]])"
            ]
          },
          "metadata": {},
          "execution_count": 15
        }
      ]
    },
    {
      "cell_type": "code",
      "source": [
        "from sklearn.preprocessing import MinMaxScaler\n",
        "mms=MinMaxScaler()\n",
        "cars_normalized = mms.fit_transform(cars_numeric.iloc[:, 1:-1])"
      ],
      "metadata": {
        "id": "GW-y5LzqBG02"
      },
      "execution_count": null,
      "outputs": []
    },
    {
      "cell_type": "code",
      "source": [
        "cars_normalized"
      ],
      "metadata": {
        "id": "68r8LWFFwBr8",
        "colab": {
          "base_uri": "https://localhost:8080/"
        },
        "outputId": "e2fd3c90-400c-49e7-86d8-424e5d08c0dd"
      },
      "execution_count": null,
      "outputs": [
        {
          "output_type": "execute_result",
          "data": {
            "text/plain": [
              "array([[0.05830904, 0.41343284, 0.31666667, ..., 0.34693878, 0.22222222,\n",
              "        0.28947368],\n",
              "       [0.05830904, 0.41343284, 0.31666667, ..., 0.34693878, 0.22222222,\n",
              "        0.28947368],\n",
              "       [0.2303207 , 0.44925373, 0.43333333, ..., 0.34693878, 0.16666667,\n",
              "        0.26315789],\n",
              "       ...,\n",
              "       [0.65597668, 0.7119403 , 0.71666667, ..., 0.55102041, 0.13888889,\n",
              "        0.18421053],\n",
              "       [0.65597668, 0.7119403 , 0.71666667, ..., 0.26530612, 0.36111111,\n",
              "        0.28947368],\n",
              "       [0.65597668, 0.7119403 , 0.71666667, ..., 0.51020408, 0.16666667,\n",
              "        0.23684211]])"
            ]
          },
          "metadata": {},
          "execution_count": 17
        }
      ]
    },
    {
      "cell_type": "code",
      "source": [
        "cars_normalized = pd.DataFrame.from_records(cars_normalized)\n",
        "print(cars_normalized.info())"
      ],
      "metadata": {
        "colab": {
          "base_uri": "https://localhost:8080/"
        },
        "id": "M42J5fWV8MeB",
        "outputId": "e6cd40a8-d884-4eed-805d-0d6bfc8869eb"
      },
      "execution_count": null,
      "outputs": [
        {
          "output_type": "stream",
          "name": "stdout",
          "text": [
            "<class 'pandas.core.frame.DataFrame'>\n",
            "RangeIndex: 205 entries, 0 to 204\n",
            "Data columns (total 13 columns):\n",
            " #   Column  Non-Null Count  Dtype  \n",
            "---  ------  --------------  -----  \n",
            " 0   0       205 non-null    float64\n",
            " 1   1       205 non-null    float64\n",
            " 2   2       205 non-null    float64\n",
            " 3   3       205 non-null    float64\n",
            " 4   4       205 non-null    float64\n",
            " 5   5       205 non-null    float64\n",
            " 6   6       205 non-null    float64\n",
            " 7   7       205 non-null    float64\n",
            " 8   8       205 non-null    float64\n",
            " 9   9       205 non-null    float64\n",
            " 10  10      205 non-null    float64\n",
            " 11  11      205 non-null    float64\n",
            " 12  12      205 non-null    float64\n",
            "dtypes: float64(13)\n",
            "memory usage: 20.9 KB\n",
            "None\n"
          ]
        }
      ]
    },
    {
      "cell_type": "code",
      "source": [
        "\n",
        "sns.boxplot(data=cars_normalized)"
      ],
      "metadata": {
        "colab": {
          "base_uri": "https://localhost:8080/",
          "height": 283
        },
        "id": "O0VODM8LzmxL",
        "outputId": "f894ef5a-037e-4f22-dadd-a68949934f9b"
      },
      "execution_count": null,
      "outputs": [
        {
          "output_type": "execute_result",
          "data": {
            "text/plain": [
              "<Axes: >"
            ]
          },
          "metadata": {},
          "execution_count": 19
        },
        {
          "output_type": "display_data",
          "data": {
            "text/plain": [
              "<Figure size 432x288 with 1 Axes>"
            ],
            "image/png": "[encoded data removed]"
          },
          "metadata": {
            "needs_background": "light"
          }
        }
      ]
    },
    {
      "cell_type": "code",
      "source": [
        "cars_normalized.describe()"
      ],
      "metadata": {
        "colab": {
          "base_uri": "https://localhost:8080/",
          "height": 300
        },
        "id": "VIMqm3EwSNNV",
        "outputId": "31b5fb7f-bb1d-487a-c897-4e044bab4684"
      },
      "execution_count": null,
      "outputs": [
        {
          "output_type": "execute_result",
          "data": {
            "text/plain": [
              "               0           1           2           3           4           5   \\\n",
              "count  205.000000  205.000000  205.000000  205.000000  205.000000  205.000000   \n",
              "mean     0.354419    0.491780    0.467317    0.493740    0.414106    0.248707   \n",
              "std      0.175562    0.184139    0.178767    0.203627    0.201971    0.157142   \n",
              "min      0.000000    0.000000    0.000000    0.000000    0.000000    0.000000   \n",
              "25%      0.230321    0.376119    0.316667    0.350000    0.254849    0.135849   \n",
              "50%      0.303207    0.479104    0.433333    0.525000    0.359193    0.222642   \n",
              "75%      0.460641    0.626866    0.550000    0.641667    0.561288    0.301887   \n",
              "max      1.000000    1.000000    1.000000    1.000000    1.000000    1.000000   \n",
              "\n",
              "               6           7           8           9           10          11  \\\n",
              "count  205.000000  205.000000  205.000000  205.000000  205.000000  205.000000   \n",
              "mean     0.564111    0.564483    0.196409    0.233821    0.398009    0.339431   \n",
              "std      0.193460    0.149332    0.248253    0.164767    0.194688    0.181726   \n",
              "min      0.000000    0.000000    0.000000    0.000000    0.000000    0.000000   \n",
              "25%      0.435714    0.495238    0.100000    0.091667    0.265306    0.166667   \n",
              "50%      0.550000    0.580952    0.125000    0.195833    0.428571    0.305556   \n",
              "75%      0.742857    0.638095    0.150000    0.283333    0.551020    0.472222   \n",
              "max      1.000000    1.000000    1.000000    1.000000    1.000000    1.000000   \n",
              "\n",
              "               12  \n",
              "count  205.000000  \n",
              "mean     0.388190  \n",
              "std      0.181222  \n",
              "min      0.000000  \n",
              "25%      0.236842  \n",
              "50%      0.368421  \n",
              "75%      0.473684  \n",
              "max      1.000000  "
            ],
            "text/html": [
              "\n",
              "  <div id=\"df-2c334598-ac65-4fb1-91d6-a8f8d9a2d47d\">\n",
              "    <div class=\"colab-df-container\">\n",
              "      <div>\n",
              "<style scoped>\n",
              "    .dataframe tbody tr th:only-of-type {\n",
              "        vertical-align: middle;\n",
              "    }\n",
              "\n",
              "    .dataframe tbody tr th {\n",
              "        vertical-align: top;\n",
              "    }\n",
              "\n",
              "    .dataframe thead th {\n",
              "        text-align: right;\n",
              "    }\n",
              "</style>\n",
              "<table border=\"1\" class=\"dataframe\">\n",
              "  <thead>\n",
              "    <tr style=\"text-align: right;\">\n",
              "      <th></th>\n",
              "      <th>0</th>\n",
              "      <th>1</th>\n",
              "      <th>2</th>\n",
              "      <th>3</th>\n",
              "      <th>4</th>\n",
              "      <th>5</th>\n",
              "      <th>6</th>\n",
              "      <th>7</th>\n",
              "      <th>8</th>\n",
              "      <th>9</th>\n",
              "      <th>10</th>\n",
              "      <th>11</th>\n",
              "      <th>12</th>\n",
              "    </tr>\n",
              "  </thead>\n",
              "  <tbody>\n",
              "    <tr>\n",
              "      <th>count</th>\n",
              "      <td>205.000000</td>\n",
              "      <td>205.000000</td>\n",
              "      <td>205.000000</td>\n",
              "      <td>205.000000</td>\n",
              "      <td>205.000000</td>\n",
              "      <td>205.000000</td>\n",
              "      <td>205.000000</td>\n",
              "      <td>205.000000</td>\n",
              "      <td>205.000000</td>\n",
              "      <td>205.000000</td>\n",
              "      <td>205.000000</td>\n",
              "      <td>205.000000</td>\n",
              "      <td>205.000000</td>\n",
              "    </tr>\n",
              "    <tr>\n",
              "      <th>mean</th>\n",
              "      <td>0.354419</td>\n",
              "      <td>0.491780</td>\n",
              "      <td>0.467317</td>\n",
              "      <td>0.493740</td>\n",
              "      <td>0.414106</td>\n",
              "      <td>0.248707</td>\n",
              "      <td>0.564111</td>\n",
              "      <td>0.564483</td>\n",
              "      <td>0.196409</td>\n",
              "      <td>0.233821</td>\n",
              "      <td>0.398009</td>\n",
              "      <td>0.339431</td>\n",
              "      <td>0.388190</td>\n",
              "    </tr>\n",
              "    <tr>\n",
              "      <th>std</th>\n",
              "      <td>0.175562</td>\n",
              "      <td>0.184139</td>\n",
              "      <td>0.178767</td>\n",
              "      <td>0.203627</td>\n",
              "      <td>0.201971</td>\n",
              "      <td>0.157142</td>\n",
              "      <td>0.193460</td>\n",
              "      <td>0.149332</td>\n",
              "      <td>0.248253</td>\n",
              "      <td>0.164767</td>\n",
              "      <td>0.194688</td>\n",
              "      <td>0.181726</td>\n",
              "      <td>0.181222</td>\n",
              "    </tr>\n",
              "    <tr>\n",
              "      <th>min</th>\n",
              "      <td>0.000000</td>\n",
              "      <td>0.000000</td>\n",
              "      <td>0.000000</td>\n",
              "      <td>0.000000</td>\n",
              "      <td>0.000000</td>\n",
              "      <td>0.000000</td>\n",
              "      <td>0.000000</td>\n",
              "      <td>0.000000</td>\n",
              "      <td>0.000000</td>\n",
              "      <td>0.000000</td>\n",
              "      <td>0.000000</td>\n",
              "      <td>0.000000</td>\n",
              "      <td>0.000000</td>\n",
              "    </tr>\n",
              "    <tr>\n",
              "      <th>25%</th>\n",
              "      <td>0.230321</td>\n",
              "      <td>0.376119</td>\n",
              "      <td>0.316667</td>\n",
              "      <td>0.350000</td>\n",
              "      <td>0.254849</td>\n",
              "      <td>0.135849</td>\n",
              "      <td>0.435714</td>\n",
              "      <td>0.495238</td>\n",
              "      <td>0.100000</td>\n",
              "      <td>0.091667</td>\n",
              "      <td>0.265306</td>\n",
              "      <td>0.166667</td>\n",
              "      <td>0.236842</td>\n",
              "    </tr>\n",
              "    <tr>\n",
              "      <th>50%</th>\n",
              "      <td>0.303207</td>\n",
              "      <td>0.479104</td>\n",
              "      <td>0.433333</td>\n",
              "      <td>0.525000</td>\n",
              "      <td>0.359193</td>\n",
              "      <td>0.222642</td>\n",
              "      <td>0.550000</td>\n",
              "      <td>0.580952</td>\n",
              "      <td>0.125000</td>\n",
              "      <td>0.195833</td>\n",
              "      <td>0.428571</td>\n",
              "      <td>0.305556</td>\n",
              "      <td>0.368421</td>\n",
              "    </tr>\n",
              "    <tr>\n",
              "      <th>75%</th>\n",
              "      <td>0.460641</td>\n",
              "      <td>0.626866</td>\n",
              "      <td>0.550000</td>\n",
              "      <td>0.641667</td>\n",
              "      <td>0.561288</td>\n",
              "      <td>0.301887</td>\n",
              "      <td>0.742857</td>\n",
              "      <td>0.638095</td>\n",
              "      <td>0.150000</td>\n",
              "      <td>0.283333</td>\n",
              "      <td>0.551020</td>\n",
              "      <td>0.472222</td>\n",
              "      <td>0.473684</td>\n",
              "    </tr>\n",
              "    <tr>\n",
              "      <th>max</th>\n",
              "      <td>1.000000</td>\n",
              "      <td>1.000000</td>\n",
              "      <td>1.000000</td>\n",
              "      <td>1.000000</td>\n",
              "      <td>1.000000</td>\n",
              "      <td>1.000000</td>\n",
              "      <td>1.000000</td>\n",
              "      <td>1.000000</td>\n",
              "      <td>1.000000</td>\n",
              "      <td>1.000000</td>\n",
              "      <td>1.000000</td>\n",
              "      <td>1.000000</td>\n",
              "      <td>1.000000</td>\n",
              "    </tr>\n",
              "  </tbody>\n",
              "</table>\n",
              "</div>\n",
              "      <button class=\"colab-df-convert\" onclick=\"convertToInteractive('df-2c334598-ac65-4fb1-91d6-a8f8d9a2d47d')\"\n",
              "              title=\"Convert this dataframe to an interactive table.\"\n",
              "              style=\"display:none;\">\n",
              "        \n",
              "  <svg xmlns=\"http://www.w3.org/2000/svg\" height=\"24px\"viewBox=\"0 0 24 24\"\n",
              "       width=\"24px\">\n",
              "    <path d=\"M0 0h24v24H0V0z\" fill=\"none\"/>\n",
              "    <path d=\"M18.56 5.44l.94 2.06.94-2.06 2.06-.94-2.06-.94-.94-2.06-.94 2.06-2.06.94zm-11 1L8.5 8.5l.94-2.06 2.06-.94-2.06-.94L8.5 2.5l-.94 2.06-2.06.94zm10 10l.94 2.06.94-2.06 2.06-.94-2.06-.94-.94-2.06-.94 2.06-2.06.94z\"/><path d=\"M17.41 7.96l-1.37-1.37c-.4-.4-.92-.59-1.43-.59-.52 0-1.04.2-1.43.59L10.3 9.45l-7.72 7.72c-.78.78-.78 2.05 0 2.83L4 21.41c.39.39.9.59 1.41.59.51 0 1.02-.2 1.41-.59l7.78-7.78 2.81-2.81c.8-.78.8-2.07 0-2.86zM5.41 20L4 18.59l7.72-7.72 1.47 1.35L5.41 20z\"/>\n",
              "  </svg>\n",
              "      </button>\n",
              "      \n",
              "  <style>\n",
              "    .colab-df-container {\n",
              "      display:flex;\n",
              "      flex-wrap:wrap;\n",
              "      gap: 12px;\n",
              "    }\n",
              "\n",
              "    .colab-df-convert {\n",
              "      background-color: #E8F0FE;\n",
              "      border: none;\n",
              "      border-radius: 50%;\n",
              "      cursor: pointer;\n",
              "      display: none;\n",
              "      fill: #1967D2;\n",
              "      height: 32px;\n",
              "      padding: 0 0 0 0;\n",
              "      width: 32px;\n",
              "    }\n",
              "\n",
              "    .colab-df-convert:hover {\n",
              "      background-color: #E2EBFA;\n",
              "      box-shadow: 0px 1px 2px rgba(60, 64, 67, 0.3), 0px 1px 3px 1px rgba(60, 64, 67, 0.15);\n",
              "      fill: #174EA6;\n",
              "    }\n",
              "\n",
              "    [theme=dark] .colab-df-convert {\n",
              "      background-color: #3B4455;\n",
              "      fill: #D2E3FC;\n",
              "    }\n",
              "\n",
              "    [theme=dark] .colab-df-convert:hover {\n",
              "      background-color: #434B5C;\n",
              "      box-shadow: 0px 1px 3px 1px rgba(0, 0, 0, 0.15);\n",
              "      filter: drop-shadow(0px 1px 2px rgba(0, 0, 0, 0.3));\n",
              "      fill: #FFFFFF;\n",
              "    }\n",
              "  </style>\n",
              "\n",
              "      <script>\n",
              "        const buttonEl =\n",
              "          document.querySelector('#df-2c334598-ac65-4fb1-91d6-a8f8d9a2d47d button.colab-df-convert');\n",
              "        buttonEl.style.display =\n",
              "          google.colab.kernel.accessAllowed ? 'block' : 'none';\n",
              "\n",
              "        async function convertToInteractive(key) {\n",
              "          const element = document.querySelector('#df-2c334598-ac65-4fb1-91d6-a8f8d9a2d47d');\n",
              "          const dataTable =\n",
              "            await google.colab.kernel.invokeFunction('convertToInteractive',\n",
              "                                                     [key], {});\n",
              "          if (!dataTable) return;\n",
              "\n",
              "          const docLinkHtml = 'Like what you see? Visit the ' +\n",
              "            '<a target=\"_blank\" href=https://colab.research.google.com/notebooks/data_table.ipynb>data table notebook</a>'\n",
              "            + ' to learn more about interactive tables.';\n",
              "          element.innerHTML = '';\n",
              "          dataTable['output_type'] = 'display_data';\n",
              "          await google.colab.output.renderOutput(dataTable, element);\n",
              "          const docLink = document.createElement('div');\n",
              "          docLink.innerHTML = docLinkHtml;\n",
              "          element.appendChild(docLink);\n",
              "        }\n",
              "      </script>\n",
              "    </div>\n",
              "  </div>\n",
              "  "
            ]
          },
          "metadata": {},
          "execution_count": 20
        }
      ]
    },
    {
      "cell_type": "markdown",
      "source": [
        "2. ***Data cleaning***\n",
        "\n",
        "Let's now conduct some data cleaning steps.\n",
        "\n",
        "We've seen that there are no missing values in the dataset. We've also seen that variables are in the correct format, except symboling, which should rather be a categorical variable (so that dummy variable are created for the categories)."
      ],
      "metadata": {
        "id": "bDSQ6VwnsIZF"
      }
    },
    {
      "cell_type": "code",
      "source": [],
      "metadata": {
        "id": "_pYKtgtcthZO"
      },
      "execution_count": null,
      "outputs": []
    },
    {
      "cell_type": "code",
      "source": [
        "# converting symboling to categorical\n",
        "cars['symboling'] = cars['symboling'].astype('object')\n",
        "cars.info()"
      ],
      "metadata": {
        "colab": {
          "base_uri": "https://localhost:8080/"
        },
        "id": "JMcwHel2r6P1",
        "outputId": "43770e75-06aa-41fb-9687-948423036ff6"
      },
      "execution_count": null,
      "outputs": [
        {
          "output_type": "stream",
          "name": "stdout",
          "text": [
            "<class 'pandas.core.frame.DataFrame'>\n",
            "RangeIndex: 205 entries, 0 to 204\n",
            "Data columns (total 26 columns):\n",
            " #   Column            Non-Null Count  Dtype  \n",
            "---  ------            --------------  -----  \n",
            " 0   car_ID            205 non-null    int64  \n",
            " 1   symboling         205 non-null    object \n",
            " 2   CarName           205 non-null    object \n",
            " 3   fueltype          205 non-null    object \n",
            " 4   aspiration        205 non-null    object \n",
            " 5   doornumber        205 non-null    object \n",
            " 6   carbody           205 non-null    object \n",
            " 7   drivewheel        205 non-null    object \n",
            " 8   enginelocation    205 non-null    object \n",
            " 9   wheelbase         205 non-null    float64\n",
            " 10  carlength         205 non-null    float64\n",
            " 11  carwidth          205 non-null    float64\n",
            " 12  carheight         205 non-null    float64\n",
            " 13  curbweight        205 non-null    int64  \n",
            " 14  enginetype        205 non-null    object \n",
            " 15  cylindernumber    205 non-null    object \n",
            " 16  enginesize        205 non-null    int64  \n",
            " 17  fuelsystem        205 non-null    object \n",
            " 18  boreratio         205 non-null    float64\n",
            " 19  stroke            205 non-null    float64\n",
            " 20  compressionratio  205 non-null    float64\n",
            " 21  horsepower        205 non-null    int64  \n",
            " 22  peakrpm           205 non-null    int64  \n",
            " 23  citympg           205 non-null    int64  \n",
            " 24  highwaympg        205 non-null    int64  \n",
            " 25  price             205 non-null    float64\n",
            "dtypes: float64(8), int64(7), object(11)\n",
            "memory usage: 41.8+ KB\n"
          ]
        }
      ]
    },
    {
      "cell_type": "code",
      "source": [
        "# Extracting carname\n",
        "\n",
        "# Method 1: str.split() by space\n",
        "carnames = cars['CarName'].apply(lambda x: x.split(\" \")[0])\n",
        "carnames[:30]"
      ],
      "metadata": {
        "colab": {
          "base_uri": "https://localhost:8080/"
        },
        "id": "l3R84LRKuwFl",
        "outputId": "61b8a652-2b49-4ddf-9d18-17abbfcb41bb"
      },
      "execution_count": null,
      "outputs": [
        {
          "output_type": "execute_result",
          "data": {
            "text/plain": [
              "0     alfa-romero\n",
              "1     alfa-romero\n",
              "2     alfa-romero\n",
              "3            audi\n",
              "4            audi\n",
              "5            audi\n",
              "6            audi\n",
              "7            audi\n",
              "8            audi\n",
              "9            audi\n",
              "10            bmw\n",
              "11            bmw\n",
              "12            bmw\n",
              "13            bmw\n",
              "14            bmw\n",
              "15            bmw\n",
              "16            bmw\n",
              "17            bmw\n",
              "18      chevrolet\n",
              "19      chevrolet\n",
              "20      chevrolet\n",
              "21          dodge\n",
              "22          dodge\n",
              "23          dodge\n",
              "24          dodge\n",
              "25          dodge\n",
              "26          dodge\n",
              "27          dodge\n",
              "28          dodge\n",
              "29          dodge\n",
              "Name: CarName, dtype: object"
            ]
          },
          "metadata": {},
          "execution_count": 22
        }
      ]
    },
    {
      "cell_type": "code",
      "source": [
        "# Method 2: Use regular expressions\n",
        "import re\n",
        "\n",
        "# regex: any alphanumeric sequence before a space, may contain a hyphen\n",
        "p = re.compile(r'\\w+-?\\w+')\n",
        "carnames = cars['CarName'].apply(lambda x: re.findall(p, x)[0])\n",
        "print(carnames)"
      ],
      "metadata": {
        "colab": {
          "base_uri": "https://localhost:8080/"
        },
        "id": "4mTU-j6Wu0y1",
        "outputId": "99986075-9f49-4132-a02e-c3c4bd945409"
      },
      "execution_count": null,
      "outputs": [
        {
          "output_type": "stream",
          "name": "stdout",
          "text": [
            "0      alfa-romero\n",
            "1      alfa-romero\n",
            "2      alfa-romero\n",
            "3             audi\n",
            "4             audi\n",
            "          ...     \n",
            "200          volvo\n",
            "201          volvo\n",
            "202          volvo\n",
            "203          volvo\n",
            "204          volvo\n",
            "Name: CarName, Length: 205, dtype: object\n"
          ]
        }
      ]
    },
    {
      "cell_type": "code",
      "source": [
        "#creating  New column car_company\n",
        "cars['car_company'] = cars['CarName'].apply(lambda x: re.findall(p, x)[0])\n",
        "cars['car_company'].astype('category').value_counts()"
      ],
      "metadata": {
        "colab": {
          "base_uri": "https://localhost:8080/"
        },
        "id": "xm1-DvClvC-0",
        "outputId": "f97ea173-addf-4420-c4c5-95b5c51e4c3d"
      },
      "execution_count": null,
      "outputs": [
        {
          "output_type": "execute_result",
          "data": {
            "text/plain": [
              "toyota         31\n",
              "nissan         17\n",
              "mazda          15\n",
              "honda          13\n",
              "mitsubishi     13\n",
              "subaru         12\n",
              "peugeot        11\n",
              "volvo          11\n",
              "dodge           9\n",
              "volkswagen      9\n",
              "buick           8\n",
              "bmw             8\n",
              "plymouth        7\n",
              "audi            7\n",
              "saab            6\n",
              "isuzu           4\n",
              "porsche         4\n",
              "chevrolet       3\n",
              "jaguar          3\n",
              "alfa-romero     3\n",
              "vw              2\n",
              "renault         2\n",
              "maxda           2\n",
              "porcshce        1\n",
              "toyouta         1\n",
              "vokswagen       1\n",
              "mercury         1\n",
              "Nissan          1\n",
              "Name: car_company, dtype: int64"
            ]
          },
          "metadata": {},
          "execution_count": 24
        }
      ]
    },
    {
      "cell_type": "code",
      "source": [
        "# replacing misspelled car_company names\n",
        "\n",
        "# volkswagen\n",
        "cars.loc[(cars['car_company'] == \"vw\") | \n",
        "         (cars['car_company'] == \"vokswagen\")\n",
        "         , 'car_company'] = 'volkswagen'\n",
        "\n",
        "# porsche\n",
        "cars.loc[cars['car_company'] == \"porcshce\", 'car_company'] = 'porsche'\n",
        "\n",
        "# toyota\n",
        "cars.loc[cars['car_company'] == \"toyouta\", 'car_company'] = 'toyota'\n",
        "\n",
        "# nissan\n",
        "cars.loc[cars['car_company'] == \"Nissan\", 'car_company'] = 'nissan'\n",
        "\n",
        "# mazda\n",
        "cars.loc[cars['car_company'] == \"maxda\", 'car_company'] = 'mazda'"
      ],
      "metadata": {
        "id": "EAIEJLtsvRAW"
      },
      "execution_count": null,
      "outputs": []
    },
    {
      "cell_type": "code",
      "source": [
        "cars['car_company'].astype('category').value_counts()"
      ],
      "metadata": {
        "colab": {
          "base_uri": "https://localhost:8080/"
        },
        "id": "AyGloI4XvRFx",
        "outputId": "2a5495a2-fc3f-41b4-9bf0-278226bd299f"
      },
      "execution_count": null,
      "outputs": [
        {
          "output_type": "execute_result",
          "data": {
            "text/plain": [
              "toyota         32\n",
              "nissan         18\n",
              "mazda          17\n",
              "mitsubishi     13\n",
              "honda          13\n",
              "volkswagen     12\n",
              "subaru         12\n",
              "peugeot        11\n",
              "volvo          11\n",
              "dodge           9\n",
              "buick           8\n",
              "bmw             8\n",
              "audi            7\n",
              "plymouth        7\n",
              "saab            6\n",
              "porsche         5\n",
              "isuzu           4\n",
              "jaguar          3\n",
              "chevrolet       3\n",
              "alfa-romero     3\n",
              "renault         2\n",
              "mercury         1\n",
              "Name: car_company, dtype: int64"
            ]
          },
          "metadata": {},
          "execution_count": 26
        }
      ]
    },
    {
      "cell_type": "code",
      "source": [
        "cars.info()"
      ],
      "metadata": {
        "colab": {
          "base_uri": "https://localhost:8080/"
        },
        "id": "Xa9I5vI5zhCN",
        "outputId": "2d5b0b3e-952c-42b4-9d4a-394af5f8023d"
      },
      "execution_count": null,
      "outputs": [
        {
          "output_type": "stream",
          "name": "stdout",
          "text": [
            "<class 'pandas.core.frame.DataFrame'>\n",
            "RangeIndex: 205 entries, 0 to 204\n",
            "Data columns (total 27 columns):\n",
            " #   Column            Non-Null Count  Dtype  \n",
            "---  ------            --------------  -----  \n",
            " 0   car_ID            205 non-null    int64  \n",
            " 1   symboling         205 non-null    object \n",
            " 2   CarName           205 non-null    object \n",
            " 3   fueltype          205 non-null    object \n",
            " 4   aspiration        205 non-null    object \n",
            " 5   doornumber        205 non-null    object \n",
            " 6   carbody           205 non-null    object \n",
            " 7   drivewheel        205 non-null    object \n",
            " 8   enginelocation    205 non-null    object \n",
            " 9   wheelbase         205 non-null    float64\n",
            " 10  carlength         205 non-null    float64\n",
            " 11  carwidth          205 non-null    float64\n",
            " 12  carheight         205 non-null    float64\n",
            " 13  curbweight        205 non-null    int64  \n",
            " 14  enginetype        205 non-null    object \n",
            " 15  cylindernumber    205 non-null    object \n",
            " 16  enginesize        205 non-null    int64  \n",
            " 17  fuelsystem        205 non-null    object \n",
            " 18  boreratio         205 non-null    float64\n",
            " 19  stroke            205 non-null    float64\n",
            " 20  compressionratio  205 non-null    float64\n",
            " 21  horsepower        205 non-null    int64  \n",
            " 22  peakrpm           205 non-null    int64  \n",
            " 23  citympg           205 non-null    int64  \n",
            " 24  highwaympg        205 non-null    int64  \n",
            " 25  price             205 non-null    float64\n",
            " 26  car_company       205 non-null    object \n",
            "dtypes: float64(8), int64(7), object(12)\n",
            "memory usage: 43.4+ KB\n"
          ]
        }
      ]
    },
    {
      "cell_type": "markdown",
      "source": [
        "***Data Preparation***"
      ],
      "metadata": {
        "id": "zLby70-41E6l"
      }
    },
    {
      "cell_type": "code",
      "source": [
        "# split into X and y\n",
        "X = cars.loc[:, ['symboling', 'fueltype', 'aspiration', 'doornumber',\n",
        "       'carbody', 'drivewheel', 'enginelocation', 'wheelbase', 'carlength',\n",
        "       'carwidth', 'carheight', 'curbweight', 'enginetype', 'cylindernumber',\n",
        "       'enginesize', 'fuelsystem', 'boreratio', 'stroke', 'compressionratio',\n",
        "       'horsepower', 'peakrpm', 'citympg', 'highwaympg',\n",
        "       'car_company']]\n",
        "\n",
        "y = cars['price']"
      ],
      "metadata": {
        "id": "71ibBc_a1DkM"
      },
      "execution_count": null,
      "outputs": []
    },
    {
      "cell_type": "code",
      "source": [
        "# creating dummy variables for categorical variables\n",
        "\n",
        "# subset all categorical variables\n",
        "cars_categorical = X.select_dtypes(include=['object'])\n",
        "cars_categorical.head()"
      ],
      "metadata": {
        "colab": {
          "base_uri": "https://localhost:8080/",
          "height": 206
        },
        "id": "0ZAR3P4J0Aec",
        "outputId": "ae503c9b-e5ff-41b2-8030-91096c5025c1"
      },
      "execution_count": null,
      "outputs": [
        {
          "output_type": "execute_result",
          "data": {
            "text/plain": [
              "  symboling fueltype aspiration doornumber      carbody drivewheel  \\\n",
              "0         3      gas        std        two  convertible        rwd   \n",
              "1         3      gas        std        two  convertible        rwd   \n",
              "2         1      gas        std        two    hatchback        rwd   \n",
              "3         2      gas        std       four        sedan        fwd   \n",
              "4         2      gas        std       four        sedan        4wd   \n",
              "\n",
              "  enginelocation enginetype cylindernumber fuelsystem  car_company  \n",
              "0          front       dohc           four       mpfi  alfa-romero  \n",
              "1          front       dohc           four       mpfi  alfa-romero  \n",
              "2          front       ohcv            six       mpfi  alfa-romero  \n",
              "3          front        ohc           four       mpfi         audi  \n",
              "4          front        ohc           five       mpfi         audi  "
            ],
            "text/html": [
              "\n",
              "  <div id=\"df-3e52666a-700a-4814-b691-3092c59b8766\">\n",
              "    <div class=\"colab-df-container\">\n",
              "      <div>\n",
              "<style scoped>\n",
              "    .dataframe tbody tr th:only-of-type {\n",
              "        vertical-align: middle;\n",
              "    }\n",
              "\n",
              "    .dataframe tbody tr th {\n",
              "        vertical-align: top;\n",
              "    }\n",
              "\n",
              "    .dataframe thead th {\n",
              "        text-align: right;\n",
              "    }\n",
              "</style>\n",
              "<table border=\"1\" class=\"dataframe\">\n",
              "  <thead>\n",
              "    <tr style=\"text-align: right;\">\n",
              "      <th></th>\n",
              "      <th>symboling</th>\n",
              "      <th>fueltype</th>\n",
              "      <th>aspiration</th>\n",
              "      <th>doornumber</th>\n",
              "      <th>carbody</th>\n",
              "      <th>drivewheel</th>\n",
              "      <th>enginelocation</th>\n",
              "      <th>enginetype</th>\n",
              "      <th>cylindernumber</th>\n",
              "      <th>fuelsystem</th>\n",
              "      <th>car_company</th>\n",
              "    </tr>\n",
              "  </thead>\n",
              "  <tbody>\n",
              "    <tr>\n",
              "      <th>0</th>\n",
              "      <td>3</td>\n",
              "      <td>gas</td>\n",
              "      <td>std</td>\n",
              "      <td>two</td>\n",
              "      <td>convertible</td>\n",
              "      <td>rwd</td>\n",
              "      <td>front</td>\n",
              "      <td>dohc</td>\n",
              "      <td>four</td>\n",
              "      <td>mpfi</td>\n",
              "      <td>alfa-romero</td>\n",
              "    </tr>\n",
              "    <tr>\n",
              "      <th>1</th>\n",
              "      <td>3</td>\n",
              "      <td>gas</td>\n",
              "      <td>std</td>\n",
              "      <td>two</td>\n",
              "      <td>convertible</td>\n",
              "      <td>rwd</td>\n",
              "      <td>front</td>\n",
              "      <td>dohc</td>\n",
              "      <td>four</td>\n",
              "      <td>mpfi</td>\n",
              "      <td>alfa-romero</td>\n",
              "    </tr>\n",
              "    <tr>\n",
              "      <th>2</th>\n",
              "      <td>1</td>\n",
              "      <td>gas</td>\n",
              "      <td>std</td>\n",
              "      <td>two</td>\n",
              "      <td>hatchback</td>\n",
              "      <td>rwd</td>\n",
              "      <td>front</td>\n",
              "      <td>ohcv</td>\n",
              "      <td>six</td>\n",
              "      <td>mpfi</td>\n",
              "      <td>alfa-romero</td>\n",
              "    </tr>\n",
              "    <tr>\n",
              "      <th>3</th>\n",
              "      <td>2</td>\n",
              "      <td>gas</td>\n",
              "      <td>std</td>\n",
              "      <td>four</td>\n",
              "      <td>sedan</td>\n",
              "      <td>fwd</td>\n",
              "      <td>front</td>\n",
              "      <td>ohc</td>\n",
              "      <td>four</td>\n",
              "      <td>mpfi</td>\n",
              "      <td>audi</td>\n",
              "    </tr>\n",
              "    <tr>\n",
              "      <th>4</th>\n",
              "      <td>2</td>\n",
              "      <td>gas</td>\n",
              "      <td>std</td>\n",
              "      <td>four</td>\n",
              "      <td>sedan</td>\n",
              "      <td>4wd</td>\n",
              "      <td>front</td>\n",
              "      <td>ohc</td>\n",
              "      <td>five</td>\n",
              "      <td>mpfi</td>\n",
              "      <td>audi</td>\n",
              "    </tr>\n",
              "  </tbody>\n",
              "</table>\n",
              "</div>\n",
              "      <button class=\"colab-df-convert\" onclick=\"convertToInteractive('df-3e52666a-700a-4814-b691-3092c59b8766')\"\n",
              "              title=\"Convert this dataframe to an interactive table.\"\n",
              "              style=\"display:none;\">\n",
              "        \n",
              "  <svg xmlns=\"http://www.w3.org/2000/svg\" height=\"24px\"viewBox=\"0 0 24 24\"\n",
              "       width=\"24px\">\n",
              "    <path d=\"M0 0h24v24H0V0z\" fill=\"none\"/>\n",
              "    <path d=\"M18.56 5.44l.94 2.06.94-2.06 2.06-.94-2.06-.94-.94-2.06-.94 2.06-2.06.94zm-11 1L8.5 8.5l.94-2.06 2.06-.94-2.06-.94L8.5 2.5l-.94 2.06-2.06.94zm10 10l.94 2.06.94-2.06 2.06-.94-2.06-.94-.94-2.06-.94 2.06-2.06.94z\"/><path d=\"M17.41 7.96l-1.37-1.37c-.4-.4-.92-.59-1.43-.59-.52 0-1.04.2-1.43.59L10.3 9.45l-7.72 7.72c-.78.78-.78 2.05 0 2.83L4 21.41c.39.39.9.59 1.41.59.51 0 1.02-.2 1.41-.59l7.78-7.78 2.81-2.81c.8-.78.8-2.07 0-2.86zM5.41 20L4 18.59l7.72-7.72 1.47 1.35L5.41 20z\"/>\n",
              "  </svg>\n",
              "      </button>\n",
              "      \n",
              "  <style>\n",
              "    .colab-df-container {\n",
              "      display:flex;\n",
              "      flex-wrap:wrap;\n",
              "      gap: 12px;\n",
              "    }\n",
              "\n",
              "    .colab-df-convert {\n",
              "      background-color: #E8F0FE;\n",
              "      border: none;\n",
              "      border-radius: 50%;\n",
              "      cursor: pointer;\n",
              "      display: none;\n",
              "      fill: #1967D2;\n",
              "      height: 32px;\n",
              "      padding: 0 0 0 0;\n",
              "      width: 32px;\n",
              "    }\n",
              "\n",
              "    .colab-df-convert:hover {\n",
              "      background-color: #E2EBFA;\n",
              "      box-shadow: 0px 1px 2px rgba(60, 64, 67, 0.3), 0px 1px 3px 1px rgba(60, 64, 67, 0.15);\n",
              "      fill: #174EA6;\n",
              "    }\n",
              "\n",
              "    [theme=dark] .colab-df-convert {\n",
              "      background-color: #3B4455;\n",
              "      fill: #D2E3FC;\n",
              "    }\n",
              "\n",
              "    [theme=dark] .colab-df-convert:hover {\n",
              "      background-color: #434B5C;\n",
              "      box-shadow: 0px 1px 3px 1px rgba(0, 0, 0, 0.15);\n",
              "      filter: drop-shadow(0px 1px 2px rgba(0, 0, 0, 0.3));\n",
              "      fill: #FFFFFF;\n",
              "    }\n",
              "  </style>\n",
              "\n",
              "      <script>\n",
              "        const buttonEl =\n",
              "          document.querySelector('#df-3e52666a-700a-4814-b691-3092c59b8766 button.colab-df-convert');\n",
              "        buttonEl.style.display =\n",
              "          google.colab.kernel.accessAllowed ? 'block' : 'none';\n",
              "\n",
              "        async function convertToInteractive(key) {\n",
              "          const element = document.querySelector('#df-3e52666a-700a-4814-b691-3092c59b8766');\n",
              "          const dataTable =\n",
              "            await google.colab.kernel.invokeFunction('convertToInteractive',\n",
              "                                                     [key], {});\n",
              "          if (!dataTable) return;\n",
              "\n",
              "          const docLinkHtml = 'Like what you see? Visit the ' +\n",
              "            '<a target=\"_blank\" href=https://colab.research.google.com/notebooks/data_table.ipynb>data table notebook</a>'\n",
              "            + ' to learn more about interactive tables.';\n",
              "          element.innerHTML = '';\n",
              "          dataTable['output_type'] = 'display_data';\n",
              "          await google.colab.output.renderOutput(dataTable, element);\n",
              "          const docLink = document.createElement('div');\n",
              "          docLink.innerHTML = docLinkHtml;\n",
              "          element.appendChild(docLink);\n",
              "        }\n",
              "      </script>\n",
              "    </div>\n",
              "  </div>\n",
              "  "
            ]
          },
          "metadata": {},
          "execution_count": 29
        }
      ]
    },
    {
      "cell_type": "code",
      "source": [
        "# convert into dummies\n",
        "cars_dummies = pd.get_dummies(cars_categorical, drop_first=True)\n",
        "cars_dummies.head()"
      ],
      "metadata": {
        "colab": {
          "base_uri": "https://localhost:8080/",
          "height": 336
        },
        "id": "jZd2skzm1tk1",
        "outputId": "0d70d97e-1576-42bb-dd05-732283a99c3e"
      },
      "execution_count": null,
      "outputs": [
        {
          "output_type": "stream",
          "name": "stderr",
          "text": [
            "/usr/local/lib/python3.9/dist-packages/pandas/core/algorithms.py:798: FutureWarning: In a future version, the Index constructor will not infer numeric dtypes when passed object-dtype sequences (matching Series behavior)\n",
            "  uniques = Index(uniques)\n"
          ]
        },
        {
          "output_type": "execute_result",
          "data": {
            "text/plain": [
              "   symboling_-1  symboling_0  symboling_1  symboling_2  symboling_3  \\\n",
              "0             0            0            0            0            1   \n",
              "1             0            0            0            0            1   \n",
              "2             0            0            1            0            0   \n",
              "3             0            0            0            1            0   \n",
              "4             0            0            0            1            0   \n",
              "\n",
              "   fueltype_gas  aspiration_turbo  doornumber_two  carbody_hardtop  \\\n",
              "0             1                 0               1                0   \n",
              "1             1                 0               1                0   \n",
              "2             1                 0               1                0   \n",
              "3             1                 0               0                0   \n",
              "4             1                 0               0                0   \n",
              "\n",
              "   carbody_hatchback  ...  car_company_nissan  car_company_peugeot  \\\n",
              "0                  0  ...                   0                    0   \n",
              "1                  0  ...                   0                    0   \n",
              "2                  1  ...                   0                    0   \n",
              "3                  0  ...                   0                    0   \n",
              "4                  0  ...                   0                    0   \n",
              "\n",
              "   car_company_plymouth  car_company_porsche  car_company_renault  \\\n",
              "0                     0                    0                    0   \n",
              "1                     0                    0                    0   \n",
              "2                     0                    0                    0   \n",
              "3                     0                    0                    0   \n",
              "4                     0                    0                    0   \n",
              "\n",
              "   car_company_saab  car_company_subaru  car_company_toyota  \\\n",
              "0                 0                   0                   0   \n",
              "1                 0                   0                   0   \n",
              "2                 0                   0                   0   \n",
              "3                 0                   0                   0   \n",
              "4                 0                   0                   0   \n",
              "\n",
              "   car_company_volkswagen  car_company_volvo  \n",
              "0                       0                  0  \n",
              "1                       0                  0  \n",
              "2                       0                  0  \n",
              "3                       0                  0  \n",
              "4                       0                  0  \n",
              "\n",
              "[5 rows x 55 columns]"
            ],
            "text/html": [
              "\n",
              "  <div id=\"df-4b28d4de-a40c-4006-bcfe-8caebc6d90dc\">\n",
              "    <div class=\"colab-df-container\">\n",
              "      <div>\n",
              "<style scoped>\n",
              "    .dataframe tbody tr th:only-of-type {\n",
              "        vertical-align: middle;\n",
              "    }\n",
              "\n",
              "    .dataframe tbody tr th {\n",
              "        vertical-align: top;\n",
              "    }\n",
              "\n",
              "    .dataframe thead th {\n",
              "        text-align: right;\n",
              "    }\n",
              "</style>\n",
              "<table border=\"1\" class=\"dataframe\">\n",
              "  <thead>\n",
              "    <tr style=\"text-align: right;\">\n",
              "      <th></th>\n",
              "      <th>symboling_-1</th>\n",
              "      <th>symboling_0</th>\n",
              "      <th>symboling_1</th>\n",
              "      <th>symboling_2</th>\n",
              "      <th>symboling_3</th>\n",
              "      <th>fueltype_gas</th>\n",
              "      <th>aspiration_turbo</th>\n",
              "      <th>doornumber_two</th>\n",
              "      <th>carbody_hardtop</th>\n",
              "      <th>carbody_hatchback</th>\n",
              "      <th>...</th>\n",
              "      <th>car_company_nissan</th>\n",
              "      <th>car_company_peugeot</th>\n",
              "      <th>car_company_plymouth</th>\n",
              "      <th>car_company_porsche</th>\n",
              "      <th>car_company_renault</th>\n",
              "      <th>car_company_saab</th>\n",
              "      <th>car_company_subaru</th>\n",
              "      <th>car_company_toyota</th>\n",
              "      <th>car_company_volkswagen</th>\n",
              "      <th>car_company_volvo</th>\n",
              "    </tr>\n",
              "  </thead>\n",
              "  <tbody>\n",
              "    <tr>\n",
              "      <th>0</th>\n",
              "      <td>0</td>\n",
              "      <td>0</td>\n",
              "      <td>0</td>\n",
              "      <td>0</td>\n",
              "      <td>1</td>\n",
              "      <td>1</td>\n",
              "      <td>0</td>\n",
              "      <td>1</td>\n",
              "      <td>0</td>\n",
              "      <td>0</td>\n",
              "      <td>...</td>\n",
              "      <td>0</td>\n",
              "      <td>0</td>\n",
              "      <td>0</td>\n",
              "      <td>0</td>\n",
              "      <td>0</td>\n",
              "      <td>0</td>\n",
              "      <td>0</td>\n",
              "      <td>0</td>\n",
              "      <td>0</td>\n",
              "      <td>0</td>\n",
              "    </tr>\n",
              "    <tr>\n",
              "      <th>1</th>\n",
              "      <td>0</td>\n",
              "      <td>0</td>\n",
              "      <td>0</td>\n",
              "      <td>0</td>\n",
              "      <td>1</td>\n",
              "      <td>1</td>\n",
              "      <td>0</td>\n",
              "      <td>1</td>\n",
              "      <td>0</td>\n",
              "      <td>0</td>\n",
              "      <td>...</td>\n",
              "      <td>0</td>\n",
              "      <td>0</td>\n",
              "      <td>0</td>\n",
              "      <td>0</td>\n",
              "      <td>0</td>\n",
              "      <td>0</td>\n",
              "      <td>0</td>\n",
              "      <td>0</td>\n",
              "      <td>0</td>\n",
              "      <td>0</td>\n",
              "    </tr>\n",
              "    <tr>\n",
              "      <th>2</th>\n",
              "      <td>0</td>\n",
              "      <td>0</td>\n",
              "      <td>1</td>\n",
              "      <td>0</td>\n",
              "      <td>0</td>\n",
              "      <td>1</td>\n",
              "      <td>0</td>\n",
              "      <td>1</td>\n",
              "      <td>0</td>\n",
              "      <td>1</td>\n",
              "      <td>...</td>\n",
              "      <td>0</td>\n",
              "      <td>0</td>\n",
              "      <td>0</td>\n",
              "      <td>0</td>\n",
              "      <td>0</td>\n",
              "      <td>0</td>\n",
              "      <td>0</td>\n",
              "      <td>0</td>\n",
              "      <td>0</td>\n",
              "      <td>0</td>\n",
              "    </tr>\n",
              "    <tr>\n",
              "      <th>3</th>\n",
              "      <td>0</td>\n",
              "      <td>0</td>\n",
              "      <td>0</td>\n",
              "      <td>1</td>\n",
              "      <td>0</td>\n",
              "      <td>1</td>\n",
              "      <td>0</td>\n",
              "      <td>0</td>\n",
              "      <td>0</td>\n",
              "      <td>0</td>\n",
              "      <td>...</td>\n",
              "      <td>0</td>\n",
              "      <td>0</td>\n",
              "      <td>0</td>\n",
              "      <td>0</td>\n",
              "      <td>0</td>\n",
              "      <td>0</td>\n",
              "      <td>0</td>\n",
              "      <td>0</td>\n",
              "      <td>0</td>\n",
              "      <td>0</td>\n",
              "    </tr>\n",
              "    <tr>\n",
              "      <th>4</th>\n",
              "      <td>0</td>\n",
              "      <td>0</td>\n",
              "      <td>0</td>\n",
              "      <td>1</td>\n",
              "      <td>0</td>\n",
              "      <td>1</td>\n",
              "      <td>0</td>\n",
              "      <td>0</td>\n",
              "      <td>0</td>\n",
              "      <td>0</td>\n",
              "      <td>...</td>\n",
              "      <td>0</td>\n",
              "      <td>0</td>\n",
              "      <td>0</td>\n",
              "      <td>0</td>\n",
              "      <td>0</td>\n",
              "      <td>0</td>\n",
              "      <td>0</td>\n",
              "      <td>0</td>\n",
              "      <td>0</td>\n",
              "      <td>0</td>\n",
              "    </tr>\n",
              "  </tbody>\n",
              "</table>\n",
              "<p>5 rows × 55 columns</p>\n",
              "</div>\n",
              "      <button class=\"colab-df-convert\" onclick=\"convertToInteractive('df-4b28d4de-a40c-4006-bcfe-8caebc6d90dc')\"\n",
              "              title=\"Convert this dataframe to an interactive table.\"\n",
              "              style=\"display:none;\">\n",
              "        \n",
              "  <svg xmlns=\"http://www.w3.org/2000/svg\" height=\"24px\"viewBox=\"0 0 24 24\"\n",
              "       width=\"24px\">\n",
              "    <path d=\"M0 0h24v24H0V0z\" fill=\"none\"/>\n",
              "    <path d=\"M18.56 5.44l.94 2.06.94-2.06 2.06-.94-2.06-.94-.94-2.06-.94 2.06-2.06.94zm-11 1L8.5 8.5l.94-2.06 2.06-.94-2.06-.94L8.5 2.5l-.94 2.06-2.06.94zm10 10l.94 2.06.94-2.06 2.06-.94-2.06-.94-.94-2.06-.94 2.06-2.06.94z\"/><path d=\"M17.41 7.96l-1.37-1.37c-.4-.4-.92-.59-1.43-.59-.52 0-1.04.2-1.43.59L10.3 9.45l-7.72 7.72c-.78.78-.78 2.05 0 2.83L4 21.41c.39.39.9.59 1.41.59.51 0 1.02-.2 1.41-.59l7.78-7.78 2.81-2.81c.8-.78.8-2.07 0-2.86zM5.41 20L4 18.59l7.72-7.72 1.47 1.35L5.41 20z\"/>\n",
              "  </svg>\n",
              "      </button>\n",
              "      \n",
              "  <style>\n",
              "    .colab-df-container {\n",
              "      display:flex;\n",
              "      flex-wrap:wrap;\n",
              "      gap: 12px;\n",
              "    }\n",
              "\n",
              "    .colab-df-convert {\n",
              "      background-color: #E8F0FE;\n",
              "      border: none;\n",
              "      border-radius: 50%;\n",
              "      cursor: pointer;\n",
              "      display: none;\n",
              "      fill: #1967D2;\n",
              "      height: 32px;\n",
              "      padding: 0 0 0 0;\n",
              "      width: 32px;\n",
              "    }\n",
              "\n",
              "    .colab-df-convert:hover {\n",
              "      background-color: #E2EBFA;\n",
              "      box-shadow: 0px 1px 2px rgba(60, 64, 67, 0.3), 0px 1px 3px 1px rgba(60, 64, 67, 0.15);\n",
              "      fill: #174EA6;\n",
              "    }\n",
              "\n",
              "    [theme=dark] .colab-df-convert {\n",
              "      background-color: #3B4455;\n",
              "      fill: #D2E3FC;\n",
              "    }\n",
              "\n",
              "    [theme=dark] .colab-df-convert:hover {\n",
              "      background-color: #434B5C;\n",
              "      box-shadow: 0px 1px 3px 1px rgba(0, 0, 0, 0.15);\n",
              "      filter: drop-shadow(0px 1px 2px rgba(0, 0, 0, 0.3));\n",
              "      fill: #FFFFFF;\n",
              "    }\n",
              "  </style>\n",
              "\n",
              "      <script>\n",
              "        const buttonEl =\n",
              "          document.querySelector('#df-4b28d4de-a40c-4006-bcfe-8caebc6d90dc button.colab-df-convert');\n",
              "        buttonEl.style.display =\n",
              "          google.colab.kernel.accessAllowed ? 'block' : 'none';\n",
              "\n",
              "        async function convertToInteractive(key) {\n",
              "          const element = document.querySelector('#df-4b28d4de-a40c-4006-bcfe-8caebc6d90dc');\n",
              "          const dataTable =\n",
              "            await google.colab.kernel.invokeFunction('convertToInteractive',\n",
              "                                                     [key], {});\n",
              "          if (!dataTable) return;\n",
              "\n",
              "          const docLinkHtml = 'Like what you see? Visit the ' +\n",
              "            '<a target=\"_blank\" href=https://colab.research.google.com/notebooks/data_table.ipynb>data table notebook</a>'\n",
              "            + ' to learn more about interactive tables.';\n",
              "          element.innerHTML = '';\n",
              "          dataTable['output_type'] = 'display_data';\n",
              "          await google.colab.output.renderOutput(dataTable, element);\n",
              "          const docLink = document.createElement('div');\n",
              "          docLink.innerHTML = docLinkHtml;\n",
              "          element.appendChild(docLink);\n",
              "        }\n",
              "      </script>\n",
              "    </div>\n",
              "  </div>\n",
              "  "
            ]
          },
          "metadata": {},
          "execution_count": 30
        }
      ]
    },
    {
      "cell_type": "code",
      "source": [
        "# drop categorical variables \n",
        "X = X.drop(list(cars_categorical.columns), axis=1)"
      ],
      "metadata": {
        "id": "fRqyvNkR1y7F"
      },
      "execution_count": null,
      "outputs": []
    },
    {
      "cell_type": "code",
      "source": [
        "# concat dummy variables with X\n",
        "X = pd.concat([X, cars_dummies], axis=1)"
      ],
      "metadata": {
        "id": "9XLdoik611jH"
      },
      "execution_count": null,
      "outputs": []
    },
    {
      "cell_type": "code",
      "source": [
        "# scaling the features\n",
        "from sklearn.preprocessing import scale\n",
        "\n",
        "# storing column names in cols \n",
        "# scaling (the df is converted to a numpy array)\n",
        "cols = X.columns\n",
        "X = pd.DataFrame(scale(X))\n",
        "X.columns = cols\n",
        "X.columns"
      ],
      "metadata": {
        "colab": {
          "base_uri": "https://localhost:8080/"
        },
        "id": "V0u_J9QX15GF",
        "outputId": "36b66387-3cc4-438f-9d72-0f9320653969"
      },
      "execution_count": null,
      "outputs": [
        {
          "output_type": "execute_result",
          "data": {
            "text/plain": [
              "Index(['wheelbase', 'carlength', 'carwidth', 'carheight', 'curbweight',\n",
              "       'enginesize', 'boreratio', 'stroke', 'compressionratio', 'horsepower',\n",
              "       'peakrpm', 'citympg', 'highwaympg', 'symboling_-1', 'symboling_0',\n",
              "       'symboling_1', 'symboling_2', 'symboling_3', 'fueltype_gas',\n",
              "       'aspiration_turbo', 'doornumber_two', 'carbody_hardtop',\n",
              "       'carbody_hatchback', 'carbody_sedan', 'carbody_wagon', 'drivewheel_fwd',\n",
              "       'drivewheel_rwd', 'enginelocation_rear', 'enginetype_dohcv',\n",
              "       'enginetype_l', 'enginetype_ohc', 'enginetype_ohcf', 'enginetype_ohcv',\n",
              "       'enginetype_rotor', 'cylindernumber_five', 'cylindernumber_four',\n",
              "       'cylindernumber_six', 'cylindernumber_three', 'cylindernumber_twelve',\n",
              "       'cylindernumber_two', 'fuelsystem_2bbl', 'fuelsystem_4bbl',\n",
              "       'fuelsystem_idi', 'fuelsystem_mfi', 'fuelsystem_mpfi',\n",
              "       'fuelsystem_spdi', 'fuelsystem_spfi', 'car_company_audi',\n",
              "       'car_company_bmw', 'car_company_buick', 'car_company_chevrolet',\n",
              "       'car_company_dodge', 'car_company_honda', 'car_company_isuzu',\n",
              "       'car_company_jaguar', 'car_company_mazda', 'car_company_mercury',\n",
              "       'car_company_mitsubishi', 'car_company_nissan', 'car_company_peugeot',\n",
              "       'car_company_plymouth', 'car_company_porsche', 'car_company_renault',\n",
              "       'car_company_saab', 'car_company_subaru', 'car_company_toyota',\n",
              "       'car_company_volkswagen', 'car_company_volvo'],\n",
              "      dtype='object')"
            ]
          },
          "metadata": {},
          "execution_count": 33
        }
      ]
    },
    {
      "cell_type": "code",
      "source": [
        "# split into train and test\n",
        "from sklearn.model_selection import train_test_split\n",
        "X_train, X_test, y_train, y_test = train_test_split(X, y, \n",
        "                                                    train_size=0.8,\n",
        "                                                    test_size = 0.2, random_state=100)\n"
      ],
      "metadata": {
        "id": "ZCJDpLEy191e"
      },
      "execution_count": null,
      "outputs": []
    },
    {
      "cell_type": "code",
      "source": [
        "# Building the first model with all the features\n",
        "\n",
        "# instantiate\n",
        "lm = LinearRegression()\n",
        "\n",
        "# fit\n",
        "lm.fit(X_train, y_train)"
      ],
      "metadata": {
        "colab": {
          "base_uri": "https://localhost:8080/",
          "height": 74
        },
        "id": "x9cNocw74DrV",
        "outputId": "d57d740d-642e-4c8b-cb88-31cfce4976ac"
      },
      "execution_count": null,
      "outputs": [
        {
          "output_type": "execute_result",
          "data": {
            "text/plain": [
              "LinearRegression()"
            ],
            "text/html": [
              "<style>#sk-container-id-1 {color: black;background-color: white;}#sk-container-id-1 pre{padding: 0;}#sk-container-id-1 div.sk-toggleable {background-color: white;}#sk-container-id-1 label.sk-toggleable__label {cursor: pointer;display: block;width: 100%;margin-bottom: 0;padding: 0.3em;box-sizing: border-box;text-align: center;}#sk-container-id-1 label.sk-toggleable__label-arrow:before {content: \"▸\";float: left;margin-right: 0.25em;color: #696969;}#sk-container-id-1 label.sk-toggleable__label-arrow:hover:before {color: black;}#sk-container-id-1 div.sk-estimator:hover label.sk-toggleable__label-arrow:before {color: black;}#sk-container-id-1 div.sk-toggleable__content {max-height: 0;max-width: 0;overflow: hidden;text-align: left;background-color: #f0f8ff;}#sk-container-id-1 div.sk-toggleable__content pre {margin: 0.2em;color: black;border-radius: 0.25em;background-color: #f0f8ff;}#sk-container-id-1 input.sk-toggleable__control:checked~div.sk-toggleable__content {max-height: 200px;max-width: 100%;overflow: auto;}#sk-container-id-1 input.sk-toggleable__control:checked~label.sk-toggleable__label-arrow:before {content: \"▾\";}#sk-container-id-1 div.sk-estimator input.sk-toggleable__control:checked~label.sk-toggleable__label {background-color: #d4ebff;}#sk-container-id-1 div.sk-label input.sk-toggleable__control:checked~label.sk-toggleable__label {background-color: #d4ebff;}#sk-container-id-1 input.sk-hidden--visually {border: 0;clip: rect(1px 1px 1px 1px);clip: rect(1px, 1px, 1px, 1px);height: 1px;margin: -1px;overflow: hidden;padding: 0;position: absolute;width: 1px;}#sk-container-id-1 div.sk-estimator {font-family: monospace;background-color: #f0f8ff;border: 1px dotted black;border-radius: 0.25em;box-sizing: border-box;margin-bottom: 0.5em;}#sk-container-id-1 div.sk-estimator:hover {background-color: #d4ebff;}#sk-container-id-1 div.sk-parallel-item::after {content: \"\";width: 100%;border-bottom: 1px solid gray;flex-grow: 1;}#sk-container-id-1 div.sk-label:hover label.sk-toggleable__label {background-color: #d4ebff;}#sk-container-id-1 div.sk-serial::before {content: \"\";position: absolute;border-left: 1px solid gray;box-sizing: border-box;top: 0;bottom: 0;left: 50%;z-index: 0;}#sk-container-id-1 div.sk-serial {display: flex;flex-direction: column;align-items: center;background-color: white;padding-right: 0.2em;padding-left: 0.2em;position: relative;}#sk-container-id-1 div.sk-item {position: relative;z-index: 1;}#sk-container-id-1 div.sk-parallel {display: flex;align-items: stretch;justify-content: center;background-color: white;position: relative;}#sk-container-id-1 div.sk-item::before, #sk-container-id-1 div.sk-parallel-item::before {content: \"\";position: absolute;border-left: 1px solid gray;box-sizing: border-box;top: 0;bottom: 0;left: 50%;z-index: -1;}#sk-container-id-1 div.sk-parallel-item {display: flex;flex-direction: column;z-index: 1;position: relative;background-color: white;}#sk-container-id-1 div.sk-parallel-item:first-child::after {align-self: flex-end;width: 50%;}#sk-container-id-1 div.sk-parallel-item:last-child::after {align-self: flex-start;width: 50%;}#sk-container-id-1 div.sk-parallel-item:only-child::after {width: 0;}#sk-container-id-1 div.sk-dashed-wrapped {border: 1px dashed gray;margin: 0 0.4em 0.5em 0.4em;box-sizing: border-box;padding-bottom: 0.4em;background-color: white;}#sk-container-id-1 div.sk-label label {font-family: monospace;font-weight: bold;display: inline-block;line-height: 1.2em;}#sk-container-id-1 div.sk-label-container {text-align: center;}#sk-container-id-1 div.sk-container {/* jupyter's `normalize.less` sets `[hidden] { display: none; }` but bootstrap.min.css set `[hidden] { display: none !important; }` so we also need the `!important` here to be able to override the default hidden behavior on the sphinx rendered scikit-learn.org. See: https://github.com/scikit-learn/scikit-learn/issues/21755 */display: inline-block !important;position: relative;}#sk-container-id-1 div.sk-text-repr-fallback {display: none;}</style><div id=\"sk-container-id-1\" class=\"sk-top-container\"><div class=\"sk-text-repr-fallback\"><pre>LinearRegression()</pre><b>In a Jupyter environment, please rerun this cell to show the HTML representation or trust the notebook. <br />On GitHub, the HTML representation is unable to render, please try loading this page with nbviewer.org.</b></div><div class=\"sk-container\" hidden><div class=\"sk-item\"><div class=\"sk-estimator sk-toggleable\"><input class=\"sk-toggleable__control sk-hidden--visually\" id=\"sk-estimator-id-1\" type=\"checkbox\" checked><label for=\"sk-estimator-id-1\" class=\"sk-toggleable__label sk-toggleable__label-arrow\">LinearRegression</label><div class=\"sk-toggleable__content\"><pre>LinearRegression()</pre></div></div></div></div></div>"
            ]
          },
          "metadata": {},
          "execution_count": 35
        }
      ]
    },
    {
      "cell_type": "code",
      "source": [
        "# print coefficients and intercept\n",
        "print(lm.coef_)\n",
        "print(lm.intercept_)"
      ],
      "metadata": {
        "colab": {
          "base_uri": "https://localhost:8080/"
        },
        "id": "bRqHnhUX4Fkt",
        "outputId": "2e51c699-49b7-4ea3-c429-e2e013a55701"
      },
      "execution_count": null,
      "outputs": [
        {
          "output_type": "stream",
          "name": "stdout",
          "text": [
            "[ 1.42867200e+03 -1.03559660e+03  1.01888231e+03 -1.15873387e+03\n",
            "  2.85666815e+03  1.00138355e+04 -3.87704419e+03 -1.10636783e+03\n",
            " -1.64495646e+03 -3.76575457e+02  1.36389023e+03  2.98292499e+02\n",
            "  3.40952205e+02  9.43141853e+02  8.06571669e+02  7.42732629e+02\n",
            "  5.45710768e+02  5.38903668e+02 -6.78481345e+02  9.36209374e+02\n",
            " -1.69785914e+02 -6.97327291e+02 -1.54168256e+03 -1.24109698e+03\n",
            " -7.35526211e+02  3.01615423e+01  4.16324963e+02  1.15338117e+03\n",
            "  4.51916659e+02  1.83770778e+01  5.93883150e+02  7.29058348e+02\n",
            " -1.27478292e+02  1.72349079e+03  1.52024069e+03  5.35664282e+03\n",
            "  9.39868116e+02  1.58062099e+03 -1.06868097e+03  1.72349079e+03\n",
            "  2.15570033e+02 -2.24899856e+02  6.78481345e+02 -1.58967205e+02\n",
            " -5.30164306e+02 -2.42345680e+02  1.59161573e-12  5.44791598e+02\n",
            "  2.05287035e+03  2.69267224e+02 -3.69539514e+02 -8.43460922e+02\n",
            " -7.62755467e+02 -1.82223318e+02 -3.77083421e+02  3.06308271e+01\n",
            " -6.75015599e-13 -1.18412317e+03 -8.62599947e+01 -4.69558996e+02\n",
            " -7.78604754e+02  1.12304958e+03 -6.12065685e+01  1.01161610e+03\n",
            "  2.18768600e+02 -2.11534715e+02  2.80029157e+01  4.82782054e+02]\n",
            "13413.085024936383\n"
          ]
        }
      ]
    },
    {
      "cell_type": "code",
      "source": [
        "# predict \n",
        "y_pred = lm.predict(X_test)\n",
        "\n",
        "# metrics\n",
        "from sklearn.metrics import r2_score\n",
        "\n",
        "print(r2_score(y_true=y_test, y_pred=y_pred))"
      ],
      "metadata": {
        "colab": {
          "base_uri": "https://localhost:8080/"
        },
        "id": "GFx5OAyo4K-u",
        "outputId": "01268198-cd8f-4f27-dbe6-f0a4d1782e3f"
      },
      "execution_count": null,
      "outputs": [
        {
          "output_type": "stream",
          "name": "stdout",
          "text": [
            "0.8317639740326515\n"
          ]
        }
      ]
    },
    {
      "cell_type": "markdown",
      "source": [
        "we are getting approx. 83% r-squared with all the variables. Let's see how much we can get with lesser features."
      ],
      "metadata": {
        "id": "1RZ1EP0j4W8l"
      }
    },
    {
      "cell_type": "markdown",
      "source": [
        "***Model Building Using RFE*** \n",
        "\n",
        "Let's now build a model using recursive feature elimination to select features. We'll first start off with an arbitrary number of features, and then use the statsmodels library to build models using the shortlisted features (this is also because sklearn doesn't have adjusted r-squared, statsmodels has)."
      ],
      "metadata": {
        "id": "xmOXKL7i4cyt"
      }
    },
    {
      "cell_type": "code",
      "source": [
        "# RFE with 15 features\n",
        "from sklearn.feature_selection import RFE\n",
        "lm = LinearRegression()\n",
        "rfe_15 = RFE(lm,n_features_to_select=15,step=1)\n",
        "rfe_15.fit(X_train, y_train)\n",
        "\n",
        "# Printing the boolean results\n",
        "print(rfe_15.support_)           \n",
        "print(rfe_15.ranking_) \n"
      ],
      "metadata": {
        "colab": {
          "base_uri": "https://localhost:8080/"
        },
        "id": "osRXlzn04YD1",
        "outputId": "43fa481c-32df-41fe-b579-634827ec8d90"
      },
      "execution_count": null,
      "outputs": [
        {
          "output_type": "stream",
          "name": "stdout",
          "text": [
            "[False False  True False  True  True  True  True False False False False\n",
            " False False False False False False False False False False False False\n",
            " False False False  True False False False False False  True  True  True\n",
            " False  True  True  True False False False False False False False False\n",
            "  True False False False False False False False False False False False\n",
            " False  True False False False False False  True]\n",
            "[12 29  1 13  1  1  1  1 21 36 11 39 33 17 27 26 25 28 18  4 38  8  5  6\n",
            "  7 49 32  1 23 52 10  3 42  1  1  1 22  1  1  1 14 43 20 46 44 45 53 19\n",
            "  1 24 34 15 30 41 37 50 54  9 47 35 16  1 48  2 31 40 51  1]\n"
          ]
        }
      ]
    },
    {
      "cell_type": "code",
      "source": [
        "# making predictions using rfe model\n",
        "y_pred = rfe_15.predict(X_test)\n",
        "\n",
        "# r-squared\n",
        "print(r2_score(y_test, y_pred))"
      ],
      "metadata": {
        "colab": {
          "base_uri": "https://localhost:8080/"
        },
        "id": "Uyl0ypNz6krG",
        "outputId": "8f6a9a92-eed5-45d8-a1f6-42269d617286"
      },
      "execution_count": null,
      "outputs": [
        {
          "output_type": "stream",
          "name": "stdout",
          "text": [
            "0.8548871855688107\n"
          ]
        }
      ]
    },
    {
      "cell_type": "code",
      "source": [
        "# RFE with 6 features\n",
        "from sklearn.feature_selection import RFE\n",
        "\n",
        "# RFE with 6 features\n",
        "lm = LinearRegression()\n",
        "rfe_6 = RFE(lm,n_features_to_select=15,step=1)\n",
        "\n",
        "# fit with 6 features\n",
        "rfe_6.fit(X_train, y_train)\n",
        "\n",
        "# predict\n",
        "y_pred = rfe_6.predict(X_test)\n",
        "\n",
        "# r-squared\n",
        "print(r2_score(y_test, y_pred))"
      ],
      "metadata": {
        "colab": {
          "base_uri": "https://localhost:8080/"
        },
        "id": "PXa3BzHb6kxI",
        "outputId": "06cadd74-e724-435a-d79e-04cad166556c"
      },
      "execution_count": null,
      "outputs": [
        {
          "output_type": "stream",
          "name": "stdout",
          "text": [
            "0.8548871855688107\n"
          ]
        }
      ]
    },
    {
      "cell_type": "markdown",
      "source": [
        "RFE with 6 features is giving about 88% r-squared, compared to 89% with 15 features. A better metric to look at is adjusted r-squared, which penalises a model for having more features, and thus weighs both the goodness of fit and model complexity."
      ],
      "metadata": {
        "id": "yZ6NvIoA7Cin"
      }
    },
    {
      "cell_type": "markdown",
      "source": [
        "***Model Building and Evaluation***"
      ],
      "metadata": {
        "id": "B3AhwE087KqH"
      }
    },
    {
      "cell_type": "code",
      "source": [
        "# import statsmodels\n",
        "import statsmodels.api as sm  \n",
        "\n",
        "# subset the features selected by rfe_15\n",
        "col_15 = X_train.columns[rfe_15.support_]\n",
        "\n",
        "# subsetting training data for 15 selected columns\n",
        "X_train_rfe_15 = X_train[col_15]\n",
        "\n",
        "# add a constant to the model\n",
        "X_train_rfe_15 = sm.add_constant(X_train_rfe_15)\n",
        "X_train_rfe_15.head()"
      ],
      "metadata": {
        "colab": {
          "base_uri": "https://localhost:8080/",
          "height": 270
        },
        "id": "m-alqWsN7Ild",
        "outputId": "1f0f1de7-5855-430e-b0bc-108a5dbf538b"
      },
      "execution_count": null,
      "outputs": [
        {
          "output_type": "execute_result",
          "data": {
            "text/plain": [
              "     const  carwidth  curbweight  enginesize  boreratio    stroke  \\\n",
              "3      1.0  0.136542   -0.420797   -0.431076  -0.517266  0.462183   \n",
              "157    1.0 -0.704593   -0.859758   -0.695874  -0.517266 -0.720563   \n",
              "81     1.0 -0.237296   -0.438125   -0.118132   0.074927  0.653980   \n",
              "32     1.0 -0.891512   -1.383431   -1.153254  -1.553603 -0.592699   \n",
              "99     1.0 -0.330755   -0.445826   -0.166277   0.000903  0.685946   \n",
              "\n",
              "     enginelocation_rear  enginetype_rotor  cylindernumber_five  \\\n",
              "3              -0.121867         -0.141069             -0.23812   \n",
              "157            -0.121867         -0.141069             -0.23812   \n",
              "81             -0.121867         -0.141069             -0.23812   \n",
              "32             -0.121867         -0.141069             -0.23812   \n",
              "99             -0.121867         -0.141069             -0.23812   \n",
              "\n",
              "     cylindernumber_four  cylindernumber_three  cylindernumber_twelve  \\\n",
              "3               0.537874             -0.070014              -0.070014   \n",
              "157             0.537874             -0.070014              -0.070014   \n",
              "81              0.537874             -0.070014              -0.070014   \n",
              "32              0.537874             -0.070014              -0.070014   \n",
              "99              0.537874             -0.070014              -0.070014   \n",
              "\n",
              "     cylindernumber_two  car_company_bmw  car_company_porsche  \\\n",
              "3             -0.141069        -0.201517            -0.158114   \n",
              "157           -0.141069        -0.201517            -0.158114   \n",
              "81            -0.141069        -0.201517            -0.158114   \n",
              "32            -0.141069        -0.201517            -0.158114   \n",
              "99            -0.141069        -0.201517            -0.158114   \n",
              "\n",
              "     car_company_volvo  \n",
              "3             -0.23812  \n",
              "157           -0.23812  \n",
              "81            -0.23812  \n",
              "32            -0.23812  \n",
              "99            -0.23812  "
            ],
            "text/html": [
              "\n",
              "  <div id=\"df-1682c846-d775-4235-97f7-5267cd37286a\">\n",
              "    <div class=\"colab-df-container\">\n",
              "      <div>\n",
              "<style scoped>\n",
              "    .dataframe tbody tr th:only-of-type {\n",
              "        vertical-align: middle;\n",
              "    }\n",
              "\n",
              "    .dataframe tbody tr th {\n",
              "        vertical-align: top;\n",
              "    }\n",
              "\n",
              "    .dataframe thead th {\n",
              "        text-align: right;\n",
              "    }\n",
              "</style>\n",
              "<table border=\"1\" class=\"dataframe\">\n",
              "  <thead>\n",
              "    <tr style=\"text-align: right;\">\n",
              "      <th></th>\n",
              "      <th>const</th>\n",
              "      <th>carwidth</th>\n",
              "      <th>curbweight</th>\n",
              "      <th>enginesize</th>\n",
              "      <th>boreratio</th>\n",
              "      <th>stroke</th>\n",
              "      <th>enginelocation_rear</th>\n",
              "      <th>enginetype_rotor</th>\n",
              "      <th>cylindernumber_five</th>\n",
              "      <th>cylindernumber_four</th>\n",
              "      <th>cylindernumber_three</th>\n",
              "      <th>cylindernumber_twelve</th>\n",
              "      <th>cylindernumber_two</th>\n",
              "      <th>car_company_bmw</th>\n",
              "      <th>car_company_porsche</th>\n",
              "      <th>car_company_volvo</th>\n",
              "    </tr>\n",
              "  </thead>\n",
              "  <tbody>\n",
              "    <tr>\n",
              "      <th>3</th>\n",
              "      <td>1.0</td>\n",
              "      <td>0.136542</td>\n",
              "      <td>-0.420797</td>\n",
              "      <td>-0.431076</td>\n",
              "      <td>-0.517266</td>\n",
              "      <td>0.462183</td>\n",
              "      <td>-0.121867</td>\n",
              "      <td>-0.141069</td>\n",
              "      <td>-0.23812</td>\n",
              "      <td>0.537874</td>\n",
              "      <td>-0.070014</td>\n",
              "      <td>-0.070014</td>\n",
              "      <td>-0.141069</td>\n",
              "      <td>-0.201517</td>\n",
              "      <td>-0.158114</td>\n",
              "      <td>-0.23812</td>\n",
              "    </tr>\n",
              "    <tr>\n",
              "      <th>157</th>\n",
              "      <td>1.0</td>\n",
              "      <td>-0.704593</td>\n",
              "      <td>-0.859758</td>\n",
              "      <td>-0.695874</td>\n",
              "      <td>-0.517266</td>\n",
              "      <td>-0.720563</td>\n",
              "      <td>-0.121867</td>\n",
              "      <td>-0.141069</td>\n",
              "      <td>-0.23812</td>\n",
              "      <td>0.537874</td>\n",
              "      <td>-0.070014</td>\n",
              "      <td>-0.070014</td>\n",
              "      <td>-0.141069</td>\n",
              "      <td>-0.201517</td>\n",
              "      <td>-0.158114</td>\n",
              "      <td>-0.23812</td>\n",
              "    </tr>\n",
              "    <tr>\n",
              "      <th>81</th>\n",
              "      <td>1.0</td>\n",
              "      <td>-0.237296</td>\n",
              "      <td>-0.438125</td>\n",
              "      <td>-0.118132</td>\n",
              "      <td>0.074927</td>\n",
              "      <td>0.653980</td>\n",
              "      <td>-0.121867</td>\n",
              "      <td>-0.141069</td>\n",
              "      <td>-0.23812</td>\n",
              "      <td>0.537874</td>\n",
              "      <td>-0.070014</td>\n",
              "      <td>-0.070014</td>\n",
              "      <td>-0.141069</td>\n",
              "      <td>-0.201517</td>\n",
              "      <td>-0.158114</td>\n",
              "      <td>-0.23812</td>\n",
              "    </tr>\n",
              "    <tr>\n",
              "      <th>32</th>\n",
              "      <td>1.0</td>\n",
              "      <td>-0.891512</td>\n",
              "      <td>-1.383431</td>\n",
              "      <td>-1.153254</td>\n",
              "      <td>-1.553603</td>\n",
              "      <td>-0.592699</td>\n",
              "      <td>-0.121867</td>\n",
              "      <td>-0.141069</td>\n",
              "      <td>-0.23812</td>\n",
              "      <td>0.537874</td>\n",
              "      <td>-0.070014</td>\n",
              "      <td>-0.070014</td>\n",
              "      <td>-0.141069</td>\n",
              "      <td>-0.201517</td>\n",
              "      <td>-0.158114</td>\n",
              "      <td>-0.23812</td>\n",
              "    </tr>\n",
              "    <tr>\n",
              "      <th>99</th>\n",
              "      <td>1.0</td>\n",
              "      <td>-0.330755</td>\n",
              "      <td>-0.445826</td>\n",
              "      <td>-0.166277</td>\n",
              "      <td>0.000903</td>\n",
              "      <td>0.685946</td>\n",
              "      <td>-0.121867</td>\n",
              "      <td>-0.141069</td>\n",
              "      <td>-0.23812</td>\n",
              "      <td>0.537874</td>\n",
              "      <td>-0.070014</td>\n",
              "      <td>-0.070014</td>\n",
              "      <td>-0.141069</td>\n",
              "      <td>-0.201517</td>\n",
              "      <td>-0.158114</td>\n",
              "      <td>-0.23812</td>\n",
              "    </tr>\n",
              "  </tbody>\n",
              "</table>\n",
              "</div>\n",
              "      <button class=\"colab-df-convert\" onclick=\"convertToInteractive('df-1682c846-d775-4235-97f7-5267cd37286a')\"\n",
              "              title=\"Convert this dataframe to an interactive table.\"\n",
              "              style=\"display:none;\">\n",
              "        \n",
              "  <svg xmlns=\"http://www.w3.org/2000/svg\" height=\"24px\"viewBox=\"0 0 24 24\"\n",
              "       width=\"24px\">\n",
              "    <path d=\"M0 0h24v24H0V0z\" fill=\"none\"/>\n",
              "    <path d=\"M18.56 5.44l.94 2.06.94-2.06 2.06-.94-2.06-.94-.94-2.06-.94 2.06-2.06.94zm-11 1L8.5 8.5l.94-2.06 2.06-.94-2.06-.94L8.5 2.5l-.94 2.06-2.06.94zm10 10l.94 2.06.94-2.06 2.06-.94-2.06-.94-.94-2.06-.94 2.06-2.06.94z\"/><path d=\"M17.41 7.96l-1.37-1.37c-.4-.4-.92-.59-1.43-.59-.52 0-1.04.2-1.43.59L10.3 9.45l-7.72 7.72c-.78.78-.78 2.05 0 2.83L4 21.41c.39.39.9.59 1.41.59.51 0 1.02-.2 1.41-.59l7.78-7.78 2.81-2.81c.8-.78.8-2.07 0-2.86zM5.41 20L4 18.59l7.72-7.72 1.47 1.35L5.41 20z\"/>\n",
              "  </svg>\n",
              "      </button>\n",
              "      \n",
              "  <style>\n",
              "    .colab-df-container {\n",
              "      display:flex;\n",
              "      flex-wrap:wrap;\n",
              "      gap: 12px;\n",
              "    }\n",
              "\n",
              "    .colab-df-convert {\n",
              "      background-color: #E8F0FE;\n",
              "      border: none;\n",
              "      border-radius: 50%;\n",
              "      cursor: pointer;\n",
              "      display: none;\n",
              "      fill: #1967D2;\n",
              "      height: 32px;\n",
              "      padding: 0 0 0 0;\n",
              "      width: 32px;\n",
              "    }\n",
              "\n",
              "    .colab-df-convert:hover {\n",
              "      background-color: #E2EBFA;\n",
              "      box-shadow: 0px 1px 2px rgba(60, 64, 67, 0.3), 0px 1px 3px 1px rgba(60, 64, 67, 0.15);\n",
              "      fill: #174EA6;\n",
              "    }\n",
              "\n",
              "    [theme=dark] .colab-df-convert {\n",
              "      background-color: #3B4455;\n",
              "      fill: #D2E3FC;\n",
              "    }\n",
              "\n",
              "    [theme=dark] .colab-df-convert:hover {\n",
              "      background-color: #434B5C;\n",
              "      box-shadow: 0px 1px 3px 1px rgba(0, 0, 0, 0.15);\n",
              "      filter: drop-shadow(0px 1px 2px rgba(0, 0, 0, 0.3));\n",
              "      fill: #FFFFFF;\n",
              "    }\n",
              "  </style>\n",
              "\n",
              "      <script>\n",
              "        const buttonEl =\n",
              "          document.querySelector('#df-1682c846-d775-4235-97f7-5267cd37286a button.colab-df-convert');\n",
              "        buttonEl.style.display =\n",
              "          google.colab.kernel.accessAllowed ? 'block' : 'none';\n",
              "\n",
              "        async function convertToInteractive(key) {\n",
              "          const element = document.querySelector('#df-1682c846-d775-4235-97f7-5267cd37286a');\n",
              "          const dataTable =\n",
              "            await google.colab.kernel.invokeFunction('convertToInteractive',\n",
              "                                                     [key], {});\n",
              "          if (!dataTable) return;\n",
              "\n",
              "          const docLinkHtml = 'Like what you see? Visit the ' +\n",
              "            '<a target=\"_blank\" href=https://colab.research.google.com/notebooks/data_table.ipynb>data table notebook</a>'\n",
              "            + ' to learn more about interactive tables.';\n",
              "          element.innerHTML = '';\n",
              "          dataTable['output_type'] = 'display_data';\n",
              "          await google.colab.output.renderOutput(dataTable, element);\n",
              "          const docLink = document.createElement('div');\n",
              "          docLink.innerHTML = docLinkHtml;\n",
              "          element.appendChild(docLink);\n",
              "        }\n",
              "      </script>\n",
              "    </div>\n",
              "  </div>\n",
              "  "
            ]
          },
          "metadata": {},
          "execution_count": 41
        }
      ]
    },
    {
      "cell_type": "code",
      "source": [
        "# fitting the model with 15 variables\n",
        "lm_15 = sm.OLS(y_train, X_train_rfe_15).fit()   \n",
        "print(lm_15.summary())"
      ],
      "metadata": {
        "colab": {
          "base_uri": "https://localhost:8080/"
        },
        "id": "WCmvVLKE8Yf1",
        "outputId": "62da2185-e952-4229-ed04-ccec90cba67d"
      },
      "execution_count": null,
      "outputs": [
        {
          "output_type": "stream",
          "name": "stdout",
          "text": [
            "                            OLS Regression Results                            \n",
            "==============================================================================\n",
            "Dep. Variable:                  price   R-squared:                       0.939\n",
            "Model:                            OLS   Adj. R-squared:                  0.933\n",
            "Method:                 Least Squares   F-statistic:                     164.1\n",
            "Date:                Sat, 18 Mar 2023   Prob (F-statistic):           6.08e-83\n",
            "Time:                        10:12:58   Log-Likelihood:                -1470.2\n",
            "No. Observations:                 164   AIC:                             2970.\n",
            "Df Residuals:                     149   BIC:                             3017.\n",
            "Df Model:                          14                                         \n",
            "Covariance Type:            nonrobust                                         \n",
            "=========================================================================================\n",
            "                            coef    std err          t      P>|t|      [0.025      0.975]\n",
            "-----------------------------------------------------------------------------------------\n",
            "const                  1.343e+04    159.574     84.143      0.000    1.31e+04    1.37e+04\n",
            "carwidth               1583.4419    361.629      4.379      0.000     868.858    2298.025\n",
            "curbweight             1861.5875    471.567      3.948      0.000     929.765    2793.410\n",
            "enginesize             8523.7946    889.666      9.581      0.000    6765.803    1.03e+04\n",
            "boreratio             -3141.2572    412.274     -7.619      0.000   -3955.917   -2326.598\n",
            "stroke                -1617.8923    255.474     -6.333      0.000   -2122.712   -1113.073\n",
            "enginelocation_rear    1330.2137    262.102      5.075      0.000     812.297    1848.131\n",
            "enginetype_rotor       1359.0858    167.520      8.113      0.000    1028.065    1690.107\n",
            "cylindernumber_five    1670.2738    269.441      6.199      0.000    1137.854    2202.693\n",
            "cylindernumber_four    3490.0318    580.653      6.011      0.000    2342.654    4637.410\n",
            "cylindernumber_three   1072.9833    182.700      5.873      0.000     711.966    1434.001\n",
            "cylindernumber_twelve -1298.9010    243.413     -5.336      0.000   -1779.888    -817.914\n",
            "cylindernumber_two     1359.0858    167.520      8.113      0.000    1028.065    1690.107\n",
            "car_company_bmw        2026.1287    183.351     11.051      0.000    1663.824    2388.433\n",
            "car_company_porsche    1278.2048    246.611      5.183      0.000     790.898    1765.512\n",
            "car_company_volvo       826.5974    205.430      4.024      0.000     420.666    1232.529\n",
            "==============================================================================\n",
            "Omnibus:                       28.784   Durbin-Watson:                   1.904\n",
            "Prob(Omnibus):                  0.000   Jarque-Bera (JB):               59.304\n",
            "Skew:                           0.790   Prob(JB):                     1.33e-13\n",
            "Kurtosis:                       5.486   Cond. No.                     5.79e+15\n",
            "==============================================================================\n",
            "\n",
            "Notes:\n",
            "[1] Standard Errors assume that the covariance matrix of the errors is correctly specified.\n",
            "[2] The smallest eigenvalue is 1.91e-29. This might indicate that there are\n",
            "strong multicollinearity problems or that the design matrix is singular.\n"
          ]
        }
      ]
    },
    {
      "cell_type": "code",
      "source": [
        "# making predictions using rfe_15 sm model\n",
        "X_test_rfe_15 = X_test[col_15]\n",
        "\n",
        "\n",
        "# # Adding a constant variable \n",
        "X_test_rfe_15 = sm.add_constant(X_test_rfe_15, has_constant='add')\n",
        "X_test_rfe_15.info()\n",
        "\n",
        "\n",
        "# # Making predictions\n",
        "y_pred = lm_15.predict(X_test_rfe_15)"
      ],
      "metadata": {
        "colab": {
          "base_uri": "https://localhost:8080/"
        },
        "id": "F5BJScC78gku",
        "outputId": "d23f0423-a4c3-49d0-aab7-abd1214f40fa"
      },
      "execution_count": null,
      "outputs": [
        {
          "output_type": "stream",
          "name": "stdout",
          "text": [
            "<class 'pandas.core.frame.DataFrame'>\n",
            "Int64Index: 41 entries, 160 to 74\n",
            "Data columns (total 16 columns):\n",
            " #   Column                 Non-Null Count  Dtype  \n",
            "---  ------                 --------------  -----  \n",
            " 0   const                  41 non-null     float64\n",
            " 1   carwidth               41 non-null     float64\n",
            " 2   curbweight             41 non-null     float64\n",
            " 3   enginesize             41 non-null     float64\n",
            " 4   boreratio              41 non-null     float64\n",
            " 5   stroke                 41 non-null     float64\n",
            " 6   enginelocation_rear    41 non-null     float64\n",
            " 7   enginetype_rotor       41 non-null     float64\n",
            " 8   cylindernumber_five    41 non-null     float64\n",
            " 9   cylindernumber_four    41 non-null     float64\n",
            " 10  cylindernumber_three   41 non-null     float64\n",
            " 11  cylindernumber_twelve  41 non-null     float64\n",
            " 12  cylindernumber_two     41 non-null     float64\n",
            " 13  car_company_bmw        41 non-null     float64\n",
            " 14  car_company_porsche    41 non-null     float64\n",
            " 15  car_company_volvo      41 non-null     float64\n",
            "dtypes: float64(16)\n",
            "memory usage: 5.4 KB\n"
          ]
        }
      ]
    },
    {
      "cell_type": "code",
      "source": [
        "# r-squared\n",
        "r2_score(y_test, y_pred)"
      ],
      "metadata": {
        "colab": {
          "base_uri": "https://localhost:8080/"
        },
        "id": "s3Vu9L-F8jFl",
        "outputId": "04d6ca79-2750-4746-d923-2e7e10d8de35"
      },
      "execution_count": null,
      "outputs": [
        {
          "output_type": "execute_result",
          "data": {
            "text/plain": [
              "0.8548871855688103"
            ]
          },
          "metadata": {},
          "execution_count": 44
        }
      ]
    },
    {
      "cell_type": "markdown",
      "source": [
        "Thus, the test r-squared of model with 15 features is about 89.4%, while training is about 93%. Let's compare the same for the model with 6 features."
      ],
      "metadata": {
        "id": "plf9W2Vb8lWu"
      }
    },
    {
      "cell_type": "code",
      "source": [
        "# subset the features selected by rfe_6\n",
        "col_6 = X_train.columns[rfe_6.support_]\n",
        "\n",
        "# subsetting training data for 6 selected columns\n",
        "X_train_rfe_6 = X_train[col_6]\n",
        "\n",
        "# add a constant to the model\n",
        "X_train_rfe_6 = sm.add_constant(X_train_rfe_6)\n",
        "\n",
        "\n",
        "# fitting the model with 6 variables\n",
        "lm_6 = sm.OLS(y_train, X_train_rfe_6).fit()   \n",
        "print(lm_6.summary())\n",
        "\n",
        "\n",
        "# making predictions using rfe_6 sm model\n",
        "X_test_rfe_6 = X_test[col_6]\n",
        "\n",
        "\n",
        "# Adding a constant  \n",
        "X_test_rfe_6 = sm.add_constant(X_test_rfe_6, has_constant='add')\n",
        "X_test_rfe_6.info()\n",
        "\n",
        "\n",
        "# # Making predictions\n",
        "y_pred = lm_6.predict(X_test_rfe_6)"
      ],
      "metadata": {
        "colab": {
          "base_uri": "https://localhost:8080/"
        },
        "id": "vgoJVQiB8nve",
        "outputId": "e1bc30b4-5fee-48e9-b382-22dbb338d18b"
      },
      "execution_count": null,
      "outputs": [
        {
          "output_type": "stream",
          "name": "stdout",
          "text": [
            "                            OLS Regression Results                            \n",
            "==============================================================================\n",
            "Dep. Variable:                  price   R-squared:                       0.939\n",
            "Model:                            OLS   Adj. R-squared:                  0.933\n",
            "Method:                 Least Squares   F-statistic:                     164.1\n",
            "Date:                Sat, 18 Mar 2023   Prob (F-statistic):           6.08e-83\n",
            "Time:                        10:12:58   Log-Likelihood:                -1470.2\n",
            "No. Observations:                 164   AIC:                             2970.\n",
            "Df Residuals:                     149   BIC:                             3017.\n",
            "Df Model:                          14                                         \n",
            "Covariance Type:            nonrobust                                         \n",
            "=========================================================================================\n",
            "                            coef    std err          t      P>|t|      [0.025      0.975]\n",
            "-----------------------------------------------------------------------------------------\n",
            "const                  1.343e+04    159.574     84.143      0.000    1.31e+04    1.37e+04\n",
            "carwidth               1583.4419    361.629      4.379      0.000     868.858    2298.025\n",
            "curbweight             1861.5875    471.567      3.948      0.000     929.765    2793.410\n",
            "enginesize             8523.7946    889.666      9.581      0.000    6765.803    1.03e+04\n",
            "boreratio             -3141.2572    412.274     -7.619      0.000   -3955.917   -2326.598\n",
            "stroke                -1617.8923    255.474     -6.333      0.000   -2122.712   -1113.073\n",
            "enginelocation_rear    1330.2137    262.102      5.075      0.000     812.297    1848.131\n",
            "enginetype_rotor       1359.0858    167.520      8.113      0.000    1028.065    1690.107\n",
            "cylindernumber_five    1670.2738    269.441      6.199      0.000    1137.854    2202.693\n",
            "cylindernumber_four    3490.0318    580.653      6.011      0.000    2342.654    4637.410\n",
            "cylindernumber_three   1072.9833    182.700      5.873      0.000     711.966    1434.001\n",
            "cylindernumber_twelve -1298.9010    243.413     -5.336      0.000   -1779.888    -817.914\n",
            "cylindernumber_two     1359.0858    167.520      8.113      0.000    1028.065    1690.107\n",
            "car_company_bmw        2026.1287    183.351     11.051      0.000    1663.824    2388.433\n",
            "car_company_porsche    1278.2048    246.611      5.183      0.000     790.898    1765.512\n",
            "car_company_volvo       826.5974    205.430      4.024      0.000     420.666    1232.529\n",
            "==============================================================================\n",
            "Omnibus:                       28.784   Durbin-Watson:                   1.904\n",
            "Prob(Omnibus):                  0.000   Jarque-Bera (JB):               59.304\n",
            "Skew:                           0.790   Prob(JB):                     1.33e-13\n",
            "Kurtosis:                       5.486   Cond. No.                     5.79e+15\n",
            "==============================================================================\n",
            "\n",
            "Notes:\n",
            "[1] Standard Errors assume that the covariance matrix of the errors is correctly specified.\n",
            "[2] The smallest eigenvalue is 1.91e-29. This might indicate that there are\n",
            "strong multicollinearity problems or that the design matrix is singular.\n",
            "<class 'pandas.core.frame.DataFrame'>\n",
            "Int64Index: 41 entries, 160 to 74\n",
            "Data columns (total 16 columns):\n",
            " #   Column                 Non-Null Count  Dtype  \n",
            "---  ------                 --------------  -----  \n",
            " 0   const                  41 non-null     float64\n",
            " 1   carwidth               41 non-null     float64\n",
            " 2   curbweight             41 non-null     float64\n",
            " 3   enginesize             41 non-null     float64\n",
            " 4   boreratio              41 non-null     float64\n",
            " 5   stroke                 41 non-null     float64\n",
            " 6   enginelocation_rear    41 non-null     float64\n",
            " 7   enginetype_rotor       41 non-null     float64\n",
            " 8   cylindernumber_five    41 non-null     float64\n",
            " 9   cylindernumber_four    41 non-null     float64\n",
            " 10  cylindernumber_three   41 non-null     float64\n",
            " 11  cylindernumber_twelve  41 non-null     float64\n",
            " 12  cylindernumber_two     41 non-null     float64\n",
            " 13  car_company_bmw        41 non-null     float64\n",
            " 14  car_company_porsche    41 non-null     float64\n",
            " 15  car_company_volvo      41 non-null     float64\n",
            "dtypes: float64(16)\n",
            "memory usage: 5.4 KB\n"
          ]
        }
      ]
    },
    {
      "cell_type": "code",
      "source": [
        "# r2_score for 6 variables\n",
        "r2_score(y_test, y_pred)"
      ],
      "metadata": {
        "colab": {
          "base_uri": "https://localhost:8080/"
        },
        "id": "NIh7RHw28s6v",
        "outputId": "e3357d84-4e51-45ca-8b4d-b6a941602ce7"
      },
      "execution_count": null,
      "outputs": [
        {
          "output_type": "execute_result",
          "data": {
            "text/plain": [
              "0.8548871855688103"
            ]
          },
          "metadata": {},
          "execution_count": 46
        }
      ]
    },
    {
      "cell_type": "markdown",
      "source": [
        "Thus, for the model with 6 variables, the r-squared on training and test data is about 89% and 88.5% respectively. The adjusted r-squared is about 88.6%."
      ],
      "metadata": {
        "id": "fhWt1vAZ8vl1"
      }
    },
    {
      "cell_type": "markdown",
      "source": [
        "***Choosing the optimal number of features***\n",
        "\n",
        "Now, we have seen that the adjusted r-squared varies from about 93.3 to 88 as we go from 15 to 6 features, one way to choose the optimal number of features is to make a plot between n_features and adjusted r-squared, and then choose the value of n_features."
      ],
      "metadata": {
        "id": "kmmw4Max82JO"
      }
    },
    {
      "cell_type": "code",
      "source": [
        "n_features_list = list(range(4, 20))\n",
        "adjusted_r2 = []\n",
        "r2 = []\n",
        "test_r2 = []\n",
        "\n",
        "for n_features in range(4, 20):\n",
        "\n",
        "    # RFE with n features\n",
        "    lm = LinearRegression()\n",
        "\n",
        "    # specify number of features\n",
        "    rfe_n = RFE(lm,n_features_to_select=n_features,)\n",
        "\n",
        "    # fit with n features\n",
        "    rfe_n.fit(X_train, y_train)\n",
        "\n",
        "    # subset the features selected by rfe_6\n",
        "    col_n = X_train.columns[rfe_n.support_]\n",
        "\n",
        "    # subsetting training data for 6 selected columns\n",
        "    X_train_rfe_n = X_train[col_n]\n",
        "\n",
        "    # add a constant to the model\n",
        "    X_train_rfe_n = sm.add_constant(X_train_rfe_n)\n",
        "\n",
        "\n",
        "    # fitting the model with 6 variables\n",
        "    lm_n = sm.OLS(y_train, X_train_rfe_n).fit()\n",
        "    adjusted_r2.append(lm_n.rsquared_adj)\n",
        "    r2.append(lm_n.rsquared)\n",
        "    \n",
        "    \n",
        "    # making predictions using rfe_15 sm model\n",
        "    X_test_rfe_n = X_test[col_n]\n",
        "\n",
        "\n",
        "    # # Adding a constant variable \n",
        "    X_test_rfe_n = sm.add_constant(X_test_rfe_n, has_constant='add')\n",
        "\n",
        "\n",
        "\n",
        "    # # Making predictions\n",
        "    y_pred = lm_n.predict(X_test_rfe_n)\n",
        "    \n",
        "    test_r2.append(r2_score(y_test, y_pred))"
      ],
      "metadata": {
        "id": "5Gs3wUcK8xEU"
      },
      "execution_count": null,
      "outputs": []
    },
    {
      "cell_type": "code",
      "source": [
        "# plotting adjusted_r2 against n_features\n",
        "plt.figure(figsize=(10, 8))\n",
        "plt.plot(n_features_list, adjusted_r2, label=\"adjusted_r2\")\n",
        "plt.plot(n_features_list, r2, label=\"train_r2\")\n",
        "plt.plot(n_features_list, test_r2, label=\"test_r2\")\n",
        "plt.legend(loc='upper left')\n",
        "plt.show()"
      ],
      "metadata": {
        "colab": {
          "base_uri": "https://localhost:8080/",
          "height": 483
        },
        "id": "6WnErirJ_2-l",
        "outputId": "2d143b0c-5c07-49e2-ed0c-d76d8c2a229b"
      },
      "execution_count": null,
      "outputs": [
        {
          "output_type": "display_data",
          "data": {
            "text/plain": [
              "<Figure size 720x576 with 1 Axes>"
            ],
            "image/png": "[encoded data removed]"
          },
          "metadata": {
            "needs_background": "light"
          }
        }
      ]
    },
    {
      "cell_type": "markdown",
      "source": [
        "Based on the plot, we can choose the number of features considering the r2_score we are looking for. Note that there are a few caveats in this approach, and there are more sopisticated techniques to choose the optimal number of features:\n",
        "\n",
        "Cross-validation: In this case, we have considered only one train-test split of the dataset; the values of r-squared and adjusted r-squared will vary with train-test split. Thus, cross-validation is a more commonly used technique (you divide the data into multiple train-test splits into 'folds', and then compute average metrics such as r-squared across the 'folds'\n",
        "\n",
        "The values of r-squared and adjusted r-squared are computed based on the training set, though we must always look at metrics computed on the test set. For e.g. in this case, the test r2 actually goes down with increasing n - this phenomenon is called 'overfitting', where the performance on training set is good because the model has in some way 'memorised' the dataset, and thus the performance on test set is worse.\n",
        "\n",
        "Thus, we can choose anything between 4 and 12 features, since beyond 12, the test r2 goes down; and at lesser than 4, the r2_score is too less.\n",
        "\n",
        "In fact, the test_r2 score doesn't increase much anyway from n=6 to n=12. It is thus wiser to choose a simpler model, and so let's choose n=6."
      ],
      "metadata": {
        "id": "Epr3x8V_2oZI"
      }
    },
    {
      "cell_type": "markdown",
      "source": [
        "Final Model\n",
        "Let's now build the final model with 6 features."
      ],
      "metadata": {
        "id": "_GHjslkL2zkB"
      }
    },
    {
      "cell_type": "code",
      "source": [
        "# RFE with n features\n",
        "lm = LinearRegression()\n",
        "\n",
        "n_features = 6\n",
        "\n",
        "# specify number of features\n",
        "rfe_n = RFE(lm,n_features_to_select=6)\n",
        "\n",
        "# fit with n features\n",
        "rfe_n.fit(X_train, y_train)\n",
        "\n",
        "# subset the features selected by rfe_6\n",
        "col_n = X_train.columns[rfe_n.support_]\n",
        "\n",
        "# subsetting training data for 6 selected columns\n",
        "X_train_rfe_n = X_train[col_n]\n",
        "\n",
        "# add a constant to the model\n",
        "X_train_rfe_n = sm.add_constant(X_train_rfe_n)\n",
        "\n",
        "\n",
        "# fitting the model with 6 variables\n",
        "lm_n = sm.OLS(y_train, X_train_rfe_n).fit()\n",
        "adjusted_r2.append(lm_n.rsquared_adj)\n",
        "r2.append(lm_n.rsquared)\n",
        "\n",
        "\n",
        "# making predictions using rfe_15 sm model\n",
        "X_test_rfe_n = X_test[col_n]\n",
        "\n",
        "\n",
        "# # Adding a constant variable \n",
        "X_test_rfe_n = sm.add_constant(X_test_rfe_n, has_constant='add')\n",
        "\n",
        "\n",
        "\n",
        "# # Making predictions\n",
        "y_pred = lm_n.predict(X_test_rfe_n)\n",
        "\n",
        "test_r2.append(r2_score(y_test, y_pred))"
      ],
      "metadata": {
        "id": "le4W748L2egZ"
      },
      "execution_count": null,
      "outputs": []
    },
    {
      "cell_type": "code",
      "source": [
        "# summary\n",
        "lm_n.summary()"
      ],
      "metadata": {
        "colab": {
          "base_uri": "https://localhost:8080/",
          "height": 553
        },
        "id": "Hv4qL09YPRAZ",
        "outputId": "cc5a37db-97d0-4e97-bee4-baf40439af14"
      },
      "execution_count": null,
      "outputs": [
        {
          "output_type": "execute_result",
          "data": {
            "text/plain": [
              "<class 'statsmodels.iolib.summary.Summary'>\n",
              "\"\"\"\n",
              "                            OLS Regression Results                            \n",
              "==============================================================================\n",
              "Dep. Variable:                  price   R-squared:                       0.894\n",
              "Model:                            OLS   Adj. R-squared:                  0.890\n",
              "Method:                 Least Squares   F-statistic:                     221.8\n",
              "Date:                Sat, 18 Mar 2023   Prob (F-statistic):           5.58e-74\n",
              "Time:                        10:21:53   Log-Likelihood:                -1515.3\n",
              "No. Observations:                 164   AIC:                             3045.\n",
              "Df Residuals:                     157   BIC:                             3066.\n",
              "Df Model:                           6                                         \n",
              "Covariance Type:            nonrobust                                         \n",
              "=======================================================================================\n",
              "                          coef    std err          t      P>|t|      [0.025      0.975]\n",
              "---------------------------------------------------------------------------------------\n",
              "const                1.332e+04    199.664     66.730      0.000    1.29e+04    1.37e+04\n",
              "carwidth             1978.5210    408.902      4.839      0.000    1170.862    2786.180\n",
              "curbweight           2372.0001    539.871      4.394      0.000    1305.653    3438.347\n",
              "enginesize           2350.9846    447.451      5.254      0.000    1467.184    3234.786\n",
              "enginelocation_rear  1693.1043    324.456      5.218      0.000    1052.243    2333.965\n",
              "car_company_bmw      1784.5703    213.694      8.351      0.000    1362.484    2206.656\n",
              "car_company_porsche   742.7171    293.472      2.531      0.012     163.054    1322.381\n",
              "==============================================================================\n",
              "Omnibus:                       11.923   Durbin-Watson:                   1.971\n",
              "Prob(Omnibus):                  0.003   Jarque-Bera (JB):               13.498\n",
              "Skew:                           0.535   Prob(JB):                      0.00117\n",
              "Kurtosis:                       3.911   Cond. No.                         5.65\n",
              "==============================================================================\n",
              "\n",
              "Notes:\n",
              "[1] Standard Errors assume that the covariance matrix of the errors is correctly specified.\n",
              "\"\"\""
            ],
            "text/html": [
              "<table class=\"simpletable\">\n",
              "<caption>OLS Regression Results</caption>\n",
              "<tr>\n",
              "  <th>Dep. Variable:</th>          <td>price</td>      <th>  R-squared:         </th> <td>   0.894</td>\n",
              "</tr>\n",
              "<tr>\n",
              "  <th>Model:</th>                   <td>OLS</td>       <th>  Adj. R-squared:    </th> <td>   0.890</td>\n",
              "</tr>\n",
              "<tr>\n",
              "  <th>Method:</th>             <td>Least Squares</td>  <th>  F-statistic:       </th> <td>   221.8</td>\n",
              "</tr>\n",
              "<tr>\n",
              "  <th>Date:</th>             <td>Sat, 18 Mar 2023</td> <th>  Prob (F-statistic):</th> <td>5.58e-74</td>\n",
              "</tr>\n",
              "<tr>\n",
              "  <th>Time:</th>                 <td>10:21:53</td>     <th>  Log-Likelihood:    </th> <td> -1515.3</td>\n",
              "</tr>\n",
              "<tr>\n",
              "  <th>No. Observations:</th>      <td>   164</td>      <th>  AIC:               </th> <td>   3045.</td>\n",
              "</tr>\n",
              "<tr>\n",
              "  <th>Df Residuals:</th>          <td>   157</td>      <th>  BIC:               </th> <td>   3066.</td>\n",
              "</tr>\n",
              "<tr>\n",
              "  <th>Df Model:</th>              <td>     6</td>      <th>                     </th>     <td> </td>   \n",
              "</tr>\n",
              "<tr>\n",
              "  <th>Covariance Type:</th>      <td>nonrobust</td>    <th>                     </th>     <td> </td>   \n",
              "</tr>\n",
              "</table>\n",
              "<table class=\"simpletable\">\n",
              "<tr>\n",
              "           <td></td>              <th>coef</th>     <th>std err</th>      <th>t</th>      <th>P>|t|</th>  <th>[0.025</th>    <th>0.975]</th>  \n",
              "</tr>\n",
              "<tr>\n",
              "  <th>const</th>               <td> 1.332e+04</td> <td>  199.664</td> <td>   66.730</td> <td> 0.000</td> <td> 1.29e+04</td> <td> 1.37e+04</td>\n",
              "</tr>\n",
              "<tr>\n",
              "  <th>carwidth</th>            <td> 1978.5210</td> <td>  408.902</td> <td>    4.839</td> <td> 0.000</td> <td> 1170.862</td> <td> 2786.180</td>\n",
              "</tr>\n",
              "<tr>\n",
              "  <th>curbweight</th>          <td> 2372.0001</td> <td>  539.871</td> <td>    4.394</td> <td> 0.000</td> <td> 1305.653</td> <td> 3438.347</td>\n",
              "</tr>\n",
              "<tr>\n",
              "  <th>enginesize</th>          <td> 2350.9846</td> <td>  447.451</td> <td>    5.254</td> <td> 0.000</td> <td> 1467.184</td> <td> 3234.786</td>\n",
              "</tr>\n",
              "<tr>\n",
              "  <th>enginelocation_rear</th> <td> 1693.1043</td> <td>  324.456</td> <td>    5.218</td> <td> 0.000</td> <td> 1052.243</td> <td> 2333.965</td>\n",
              "</tr>\n",
              "<tr>\n",
              "  <th>car_company_bmw</th>     <td> 1784.5703</td> <td>  213.694</td> <td>    8.351</td> <td> 0.000</td> <td> 1362.484</td> <td> 2206.656</td>\n",
              "</tr>\n",
              "<tr>\n",
              "  <th>car_company_porsche</th> <td>  742.7171</td> <td>  293.472</td> <td>    2.531</td> <td> 0.012</td> <td>  163.054</td> <td> 1322.381</td>\n",
              "</tr>\n",
              "</table>\n",
              "<table class=\"simpletable\">\n",
              "<tr>\n",
              "  <th>Omnibus:</th>       <td>11.923</td> <th>  Durbin-Watson:     </th> <td>   1.971</td>\n",
              "</tr>\n",
              "<tr>\n",
              "  <th>Prob(Omnibus):</th> <td> 0.003</td> <th>  Jarque-Bera (JB):  </th> <td>  13.498</td>\n",
              "</tr>\n",
              "<tr>\n",
              "  <th>Skew:</th>          <td> 0.535</td> <th>  Prob(JB):          </th> <td> 0.00117</td>\n",
              "</tr>\n",
              "<tr>\n",
              "  <th>Kurtosis:</th>      <td> 3.911</td> <th>  Cond. No.          </th> <td>    5.65</td>\n",
              "</tr>\n",
              "</table><br/><br/>Notes:<br/>[1] Standard Errors assume that the covariance matrix of the errors is correctly specified."
            ]
          },
          "metadata": {},
          "execution_count": 53
        }
      ]
    },
    {
      "cell_type": "code",
      "source": [
        "# results \n",
        "r2_score(y_test, y_pred)"
      ],
      "metadata": {
        "colab": {
          "base_uri": "https://localhost:8080/"
        },
        "id": "EUa6T-XXO_0j",
        "outputId": "c4ab4fc9-f6a5-4cb0-e9cf-ee46c3cc1388"
      },
      "execution_count": null,
      "outputs": [
        {
          "output_type": "execute_result",
          "data": {
            "text/plain": [
              "0.8617667356702006"
            ]
          },
          "metadata": {},
          "execution_count": 54
        }
      ]
    }
  ]
}